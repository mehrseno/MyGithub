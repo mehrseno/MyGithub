{
  "cells": [
    {
      "cell_type": "markdown",
      "metadata": {
        "id": "view-in-github",
        "colab_type": "text"
      },
      "source": [
        "<a href=\"https://colab.research.google.com/github/mehrseno/MyGithub/blob/master/Covid_19_Fake_News_Detection.ipynb\" target=\"_parent\"><img src=\"https://colab.research.google.com/assets/colab-badge.svg\" alt=\"Open In Colab\"/></a>"
      ]
    },
    {
      "cell_type": "code",
      "execution_count": null,
      "metadata": {
        "id": "YJBP6O_ho4pR"
      },
      "outputs": [],
      "source": [
        "!pip install --upgrade gensim -qq \n",
        "!pip install transformers -qq \n",
        "!pip install tensorflow_addons -qq \n",
        "!pip install glove -qq \n",
        "!pip install tensorflow -qq \n",
        "!pip install nltk -qq \n",
        "!pip install keras -qq \n",
        "!pip install vaderSentiment -qq \n",
        "!pip install emot\n",
        "!pip install glove_python\n",
        "!pip install glove\n",
        "!pip install glove-python-binary\n"
      ]
    },
    {
      "cell_type": "code",
      "execution_count": null,
      "metadata": {
        "id": "rhTPTZ4Oc4t-"
      },
      "outputs": [],
      "source": [
        "import pandas as pd\n",
        "import tensorflow as tf\n",
        "from tensorflow.keras.layers import Dense, LSTM\n",
        "from tensorflow.keras.models import Model\n",
        "from tensorflow.keras.models import Sequential\n",
        "import numpy as np\n",
        "import scipy\n",
        "import tensorflow_hub as hub\n",
        "import nltk\n",
        "from nltk.tokenize import RegexpTokenizer\n",
        "from nltk.stem import WordNetLemmatizer,PorterStemmer\n",
        "from nltk.corpus import stopwords\n",
        "import re\n",
        "from gensim.models import Word2Vec\n",
        "from tensorflow.keras.preprocessing.sequence import pad_sequences\n",
        "from gensim.models import KeyedVectors\n",
        "from transformers import BertTokenizer\n",
        "import transformers\n",
        "import html #Messing with HTML content, like &amp;\n",
        "import string #String Processing\n",
        "from sklearn.feature_extraction.text import TfidfVectorizer\n",
        "from sklearn.svm import SVC\n",
        "from sklearn.metrics import classification_report, confusion_matrix\n",
        "from sklearn.metrics import  accuracy_score\n",
        "from tensorflow.keras.layers import Dense, Bidirectional, LSTM, GRU, Embedding\n",
        "import torch\n",
        "from transformers import AutoTokenizer, AutoModel\n",
        "import tensorflow\n",
        "from tensorflow.keras import layers\n",
        "from tensorflow.keras.regularizers import L1L2\n",
        "import pickle\n",
        "from emot.emo_unicode import UNICODE_EMOJI\n",
        "from matplotlib import pyplot as plt\n",
        "import seaborn as sns\n",
        "from random import seed\n",
        "from random import randrange\n",
        "from csv import reader\n",
        "from math import sqrt\n",
        "from glove import Corpus, Glove\n"
      ]
    },
    {
      "cell_type": "markdown",
      "metadata": {
        "id": "7NbyCPepxRFv"
      },
      "source": [
        "# precision-recall-f1"
      ]
    },
    {
      "cell_type": "code",
      "execution_count": null,
      "metadata": {
        "id": "GJxShfCfxU1k"
      },
      "outputs": [],
      "source": [
        "\n",
        "from keras import backend as K\n",
        "\n",
        "def recall_m(y_true, y_pred):\n",
        "    true_positives = K.sum(K.round(K.clip(y_true * y_pred, 0, 1)))\n",
        "    possible_positives = K.sum(K.round(K.clip(y_true, 0, 1)))\n",
        "    recall = true_positives / (possible_positives + K.epsilon())\n",
        "    return recall\n",
        "\n",
        "def precision_m(y_true, y_pred):\n",
        "    true_positives = K.sum(K.round(K.clip(y_true * y_pred, 0, 1)))\n",
        "    predicted_positives = K.sum(K.round(K.clip(y_pred, 0, 1)))\n",
        "    precision = true_positives / (predicted_positives + K.epsilon())\n",
        "    return precision\n",
        "\n",
        "def f1_m(y_true, y_pred):\n",
        "    precision = precision_m(y_true, y_pred)\n",
        "    recall = recall_m(y_true, y_pred)\n",
        "    return 2*((precision*recall)/(precision+recall+K.epsilon()))\n",
        "\n"
      ]
    },
    {
      "cell_type": "markdown",
      "metadata": {
        "id": "vqRm8YtX5tTI"
      },
      "source": [
        "# Preproccessing + Getting X"
      ]
    },
    {
      "cell_type": "code",
      "execution_count": null,
      "metadata": {
        "id": "q8r6QhXBYgAI"
      },
      "outputs": [],
      "source": [
        "!gdown --id 1DXDsCPZDUY3G828cEQnG40Uci3tJ1PUi\n",
        "!gdown --id 155bZkqIDpy0y5RRP3yx4PFEMIlGDVKD6\n",
        "!gdown --id 1dzpXfikb2QyS0x61PwQ3EiPQ7Fi_k3Rb\n",
        "!gdown --id 1oEKK3cz9ESY6HR-_gudDFrWt_e3ZkQG0\n",
        "!gdown --id 1rlQDiv-H14DXBh2Uvx61uw9XknjJFee8\n",
        "!gdown --id 1i27GazTEa9VTJh7VpJ0CY9Ce-mVt-IuY\n",
        "\n"
      ]
    },
    {
      "cell_type": "code",
      "execution_count": null,
      "metadata": {
        "colab": {
          "base_uri": "https://localhost:8080/",
          "height": 35
        },
        "id": "SIauic2XlJ8i",
        "outputId": "a1a1d222-a019-439b-d3e1-3e4f30183382"
      },
      "outputs": [
        {
          "output_type": "execute_result",
          "data": {
            "text/plain": [
              "'Hilarious ! The feeling of making a sale , The feeling of actually fulfilling orders '"
            ],
            "application/vnd.google.colaboratory.intrinsic+json": {
              "type": "string"
            }
          },
          "metadata": {},
          "execution_count": 6
        }
      ],
      "source": [
        "def remove_emoji(string):\n",
        "    emoji_pattern = re.compile(\"[\"\n",
        "                           u\"\\U0001F600-\\U0001F64F\" # emoticons\n",
        "                           u\"\\U0001F300-\\U0001F5FF\" # symbols & pictographs\n",
        "                           u\"\\U0001F680-\\U0001F6FF\" # transport & map symbols\n",
        "                           u\"\\U0001F1E0-\\U0001F1FF\" # flags (iOS)\n",
        "                           u\"\\U00002702-\\U000027B0\"\n",
        "                           u\"\\U000024C2-\\U0001F251\"\n",
        "                           \"]+\", flags=re.UNICODE)\n",
        "    return emoji_pattern.sub(r'', string)\n",
        "\n",
        "remove_emoji(\"Hilarious 😂! The feeling of making a sale 😎, The feeling of actually fulfilling orders 😒\")"
      ]
    },
    {
      "cell_type": "code",
      "execution_count": null,
      "metadata": {
        "colab": {
          "base_uri": "https://localhost:8080/"
        },
        "id": "FR5Eocfhxbty",
        "outputId": "f896e812-9d95-4354-980d-cd52fcb5241e"
      },
      "outputs": [
        {
          "output_type": "stream",
          "name": "stdout",
          "text": [
            "!\"#$%&'()*+,-./:;<=>?@[\\]^_`{|}~\n",
            "['i', 'me', 'my', 'myself', 'we', 'our', 'ours', 'ourselves', 'you', \"you're\", \"you've\", \"you'll\", \"you'd\", 'your', 'yours', 'yourself', 'yourselves', 'he', 'him', 'his', 'himself', 'she', \"she's\", 'her', 'hers', 'herself', 'it', \"it's\", 'its', 'itself', 'they', 'them', 'their', 'theirs', 'themselves', 'what', 'which', 'who', 'whom', 'this', 'that', \"that'll\", 'these', 'those', 'am', 'is', 'are', 'was', 'were', 'be', 'been', 'being', 'have', 'has', 'had', 'having', 'do', 'does', 'did', 'doing', 'a', 'an', 'the', 'and', 'but', 'if', 'or', 'because', 'as', 'until', 'while', 'of', 'at', 'by', 'for', 'with', 'about', 'against', 'between', 'into', 'through', 'during', 'before', 'after', 'above', 'below', 'to', 'from', 'up', 'down', 'in', 'out', 'on', 'off', 'over', 'under', 'again', 'further', 'then', 'once', 'here', 'there', 'when', 'where', 'why', 'how', 'all', 'any', 'both', 'each', 'few', 'more', 'most', 'other', 'some', 'such', 'no', 'nor', 'not', 'only', 'own', 'same', 'so', 'than', 'too', 'very', 's', 't', 'can', 'will', 'just', 'don', \"don't\", 'should', \"should've\", 'now', 'd', 'll', 'm', 'o', 're', 've', 'y', 'ain', 'aren', \"aren't\", 'couldn', \"couldn't\", 'didn', \"didn't\", 'doesn', \"doesn't\", 'hadn', \"hadn't\", 'hasn', \"hasn't\", 'haven', \"haven't\", 'isn', \"isn't\", 'ma', 'mightn', \"mightn't\", 'mustn', \"mustn't\", 'needn', \"needn't\", 'shan', \"shan't\", 'shouldn', \"shouldn't\", 'wasn', \"wasn't\", 'weren', \"weren't\", 'won', \"won't\", 'wouldn', \"wouldn't\"]\n"
          ]
        },
        {
          "output_type": "stream",
          "name": "stderr",
          "text": [
            "[nltk_data] Downloading package stopwords to /root/nltk_data...\n",
            "[nltk_data]   Package stopwords is already up-to-date!\n"
          ]
        }
      ],
      "source": [
        "nltk.download('stopwords')\n",
        "lemmatizer = WordNetLemmatizer()\n",
        "stemmer = PorterStemmer() \n",
        "\n",
        "punctuations = string.punctuation #List of punctuations to remove\n",
        "print(punctuations) #See the punctuations the string library has\n",
        "\n",
        "STOP = stopwords.words(\"english\") #Get the NLTK stopwords\n",
        "print(STOP) #See what NLTK considers stopwords"
      ]
    },
    {
      "cell_type": "code",
      "execution_count": null,
      "metadata": {
        "colab": {
          "base_uri": "https://localhost:8080/",
          "height": 53
        },
        "id": "ChDjCD0fLl0F",
        "outputId": "56ec95de-9a12-4eea-ede2-265a030d18c6"
      },
      "outputs": [
        {
          "output_type": "execute_result",
          "data": {
            "text/plain": [
              "'Hilarious face_with_tears_of_joy. The feeling of making a sale smiling_face_with_sunglasses, The feeling of actually fulfilling orders unamused_face'"
            ],
            "application/vnd.google.colaboratory.intrinsic+json": {
              "type": "string"
            }
          },
          "metadata": {},
          "execution_count": 13
        }
      ],
      "source": [
        "def convert_emojis(text):\n",
        "    for emot in UNICODE_EMOJI:\n",
        "        text = text.replace(emot, \"_\".join(UNICODE_EMOJI[emot].replace(\",\",\"\").replace(\":\",\"\").split()))\n",
        "    return text\n",
        "    \n",
        "# Example\n",
        "text1 = \"Hilarious 😂. The feeling of making a sale 😎, The feeling of actually fulfilling orders 😒\"\n",
        "convert_emojis(text1)"
      ]
    },
    {
      "cell_type": "code",
      "execution_count": null,
      "metadata": {
        "colab": {
          "background_save": true
        },
        "id": "5gtGerV0mBkh"
      },
      "outputs": [],
      "source": []
    },
    {
      "cell_type": "code",
      "execution_count": null,
      "metadata": {
        "id": "rlrF4Lynvr3A"
      },
      "outputs": [],
      "source": [
        "#CleanTweets: parses the tweets and removes punctuation, stop words, digits, and links.\n",
        "#Input: the list of tweets that need parsing\n",
        "#Output: the parsed tweets\n",
        "def cleanTweets(tweetParse):\n",
        "    for i in range(0,len(tweetParse)):\n",
        "        tweet = tweetParse[i] #Putting the tweet into a variable so that it is not calling tweetParse[i] over and over\n",
        "        tweet = html.unescape(tweet) #Removes leftover HTML elements, such as &amp;\n",
        "        tweet = re.sub(r\"@\\w+\", \" \", tweet) #Completely removes @'s, as other peoples' usernames mean nothing\n",
        "        tweet = re.sub(r\"http\\S+\", \" \", tweet) #Removes links, as links provide no data in tweet analysis in themselves\n",
        "        tweet = \"\".join([punc for punc in tweet if not punc in punctuations]) #Removes the punctuation defined above\n",
        "        tweet = tweet.lower() #Turning the tweets lowercase real quick for later use\n",
        "        tweet = stemmer.stem(tweet)\n",
        "        tweet = convert_emojis(tweet)\n",
        "        tweetWord = tweet.split() #Splits the tweet into individual words\n",
        "        tweetParse[i] = \"\".join([word + \" \" for word in tweetWord if not word in STOP]) #Checks if the words are stop words\n",
        "    return tweetParse #Returns the parsed tweets\n"
      ]
    },
    {
      "cell_type": "code",
      "execution_count": null,
      "metadata": {
        "id": "bR5OZ2WAp3Ka"
      },
      "outputs": [],
      "source": [
        "# this function reads the corpus and returns its tweets, Ids and labels\n",
        "def read_document(path):\n",
        "  labels = []  \n",
        "  tmp = ' '\n",
        "  tweets = []\n",
        "  ids = []\n",
        "  df = pd.read_excel(path)\n",
        "  ids = df.id\n",
        "  labels = df.label\n",
        "  df[\"cleanTweet\"] = cleanTweets(df[\"tweet\"].copy()) #Clean the training tweets\n",
        "  df.head() #Take a look at the dataset\n",
        "  return  df.cleanTweet, labels, df\n"
      ]
    },
    {
      "cell_type": "code",
      "execution_count": null,
      "metadata": {
        "id": "AGBrWuH3ZC2m"
      },
      "outputs": [],
      "source": [
        "train_tweets, train_labels, train_df = read_document(\"/content/Constraint_English_Train.xlsx\")\n",
        "test_tweets, test_labels, test_df = read_document(\"/content/english_test_with_labels.xlsx\")\n",
        "val_tweets, val_labels, val_df = read_document(\"/content/Constraint_English_Val.xlsx\")\n",
        "add_tweets = [ train_tweets, val_tweets, test_tweets]\n",
        "all_tweets = pd.concat(add_tweets)\n"
      ]
    },
    {
      "cell_type": "code",
      "execution_count": null,
      "metadata": {
        "id": "RNpaUbCDWkxQ"
      },
      "outputs": [],
      "source": [
        "# Find the best lenght for padding\n",
        "tweets = [tweet for tweet in train_df.cleanTweet]\n",
        "max_len = 0\n",
        "tweets_len = []\n",
        "for tweet in tweets:\n",
        "    tweets_len.append(len(tweet.split()))\n",
        "    max_len = max(len(tweet.split()), max_len)\n",
        "\n",
        "print('Number of titles:', len(tweets))\n",
        "print('Max length of the titles:', max_len)\n",
        "print('Mean length of the titles:', np.mean(tweets_len))\n",
        "plt.figure(figsize=(20,5))\n",
        "g = sns.countplot(x=tweets_len)\n",
        "g.set_xticklabels(g.get_xticklabels(), rotation=50)\n",
        "plt.show()"
      ]
    },
    {
      "cell_type": "markdown",
      "metadata": {
        "id": "qWTo5Jw_4hEc"
      },
      "source": [
        "# Getting Y"
      ]
    },
    {
      "cell_type": "code",
      "execution_count": null,
      "metadata": {
        "id": "xbeBHLOfOSJJ"
      },
      "outputs": [],
      "source": [
        "def label_encode(label):\n",
        "  \n",
        "    if label == 'real':\n",
        "        return 1\n",
        "    if label == \"fake\":\n",
        "        return 0\n"
      ]
    },
    {
      "cell_type": "code",
      "execution_count": null,
      "metadata": {
        "id": "mq-k-BxZNwjR"
      },
      "outputs": [],
      "source": [
        "encoded_train = [label_encode(label) for label in train_labels]\n",
        "encoded_val = [label_encode(label) for label in val_labels]\n",
        "encoded_test = [label_encode(label) for label in test_labels]\n",
        "\n"
      ]
    },
    {
      "cell_type": "code",
      "execution_count": null,
      "metadata": {
        "id": "LWtnD6DPPsxM"
      },
      "outputs": [],
      "source": [
        "y_val = np.array(encoded_val)\n",
        "y_train = np.array(encoded_train)\n",
        "y_test = np.array(encoded_test)"
      ]
    },
    {
      "cell_type": "markdown",
      "metadata": {
        "id": "YwJgiYYSlM9z"
      },
      "source": [
        "**# Word Embedding**"
      ]
    },
    {
      "cell_type": "markdown",
      "metadata": {
        "id": "C_HUMb2oEjqc"
      },
      "source": [
        "# word2vec and glove embedding"
      ]
    },
    {
      "cell_type": "code",
      "execution_count": null,
      "metadata": {
        "id": "y5NLg1EXNXRW"
      },
      "outputs": [],
      "source": [
        "# create input for gensim word2vec model\n",
        "def get_sentences(tweets):\n",
        "  tweetBYword = []\n",
        "  for tweet in tweets:\n",
        "    tokens = tweet.split()\n",
        "    tokens = [word for word in tokens]\n",
        "    tweetBYword.append(tokens)\n",
        "  return tweetBYword\n"
      ]
    },
    {
      "cell_type": "code",
      "execution_count": null,
      "metadata": {
        "id": "DyVWVUr8aZhq"
      },
      "outputs": [],
      "source": [
        "tweetBYword= get_sentences(all_tweets)\n"
      ]
    },
    {
      "cell_type": "code",
      "execution_count": null,
      "metadata": {
        "id": "TgiAYy4jOOMa"
      },
      "outputs": [],
      "source": [
        "# sg: Training algorithm: 1 for skip-gram; otherwise CBOW.\n",
        "# min_count: Ignores all words with total frequency lower than this.\n",
        "# window: Maximum distance between the current and predicted word within a sentence.\n",
        "# size: Dimensionality of the word vectors.\n",
        "\n",
        "model_w2v = Word2Vec(tweetBYword,min_count = 0, vector_size=100, window=10, sg=0, batch_words = 2)"
      ]
    },
    {
      "cell_type": "code",
      "execution_count": null,
      "metadata": {
        "id": "E1qyWNcWOSW6"
      },
      "outputs": [],
      "source": [
        "# save the model\n",
        "# model_w2v.save(\"/content/word2vec.model\")"
      ]
    },
    {
      "cell_type": "code",
      "execution_count": null,
      "metadata": {
        "id": "kgUSOWRZOWVU"
      },
      "outputs": [],
      "source": [
        "# load the model\n",
        "# model_w2v = Word2Vec.load(\"/content/word2vec.model\")"
      ]
    },
    {
      "cell_type": "code",
      "source": [],
      "metadata": {
        "id": "OZGPTiAm-wKq"
      },
      "execution_count": null,
      "outputs": []
    },
    {
      "cell_type": "code",
      "execution_count": null,
      "metadata": {
        "id": "Ledq0LYTmWsw"
      },
      "outputs": [],
      "source": [
        "#importing the glove library\n",
        "from glove import Corpus, Glove\n",
        "# creating a corpus object\n",
        "corpus = Corpus() \n",
        "#training the corpus to generate the co occurence matrix which is used in GloVe\n",
        "corpus.fit(tweetBYword, window=10)\n",
        "#creating a Glove object which will use the matrix created in the above lines to create embeddings\n",
        "#We can set the learning rate as it uses Gradient Descent and number of components\n",
        "glove = Glove(no_components=150, learning_rate=0.05)\n",
        " \n",
        "glove.fit(corpus.matrix, epochs=30, no_threads=4, verbose=True)\n",
        "glove.add_dictionary(corpus.dictionary)\n",
        "glove.save('glove.model')"
      ]
    },
    {
      "cell_type": "code",
      "execution_count": null,
      "metadata": {
        "id": "r4O9mjPkqACj"
      },
      "outputs": [],
      "source": [
        "gl = glove.load(\"glove.model\")\n"
      ]
    },
    {
      "cell_type": "code",
      "execution_count": null,
      "metadata": {
        "id": "nZvbdFjZEks0"
      },
      "outputs": [],
      "source": [
        "def get_max_length(tweet):\n",
        "    \"\"\"\n",
        "    get max token counts from train data, \n",
        "    so we use this number as fixed length input to RNN cell\n",
        "    \"\"\"\n",
        "    max_length = 0\n",
        "    for row in tweet:\n",
        "        if len(row.split(\" \")) > max_length:\n",
        "            max_length = len(row.split(\" \"))\n",
        "    return max_length\n",
        "\n",
        "def get_word2vec_enc(tweets):\n",
        "    \"\"\"\n",
        "    get word2vec value for each word in sentence.\n",
        "    concatenate word in numpy array, so we can use it as RNN input\n",
        "    \"\"\"\n",
        "    model_w2v = Word2Vec.load(\"/content/word2vec.model\")\n",
        "    encoded_tweets = []\n",
        "    for tweet in tweets:\n",
        "        tokens = tweet.split(\" \")\n",
        "        word2vec_embeddings = []\n",
        "        for token in tokens:\n",
        "            if token in model_w2v.wv.key_to_index:\n",
        "                 word2vec_embeddings.append(model_w2v.wv[token])\n",
        "        encoded_tweets.append(word2vec_embeddings)\n",
        "    return encoded_tweets\n",
        "        \n",
        "\n",
        "def get_glove_enc(tweets):\n",
        "    \"\"\"\n",
        "    get word2vec value for each word in sentence.\n",
        "    concatenate word in numpy array, so we can use it as RNN input\n",
        "    \"\"\"\n",
        "    encoded_tweets = []\n",
        "    for tweet in tweets:\n",
        "        tokens = tweet.split(\" \")\n",
        "        glove_embeddings = []\n",
        "        for token in tokens:\n",
        "            if token in glove.dictionary.keys():\n",
        "                 glove_embedding = glove.word_vectors[glove.dictionary[token]]\n",
        "                 glove_embeddings.append(glove_embedding)\n",
        "        encoded_tweets.append(glove_embeddings)\n",
        "    return encoded_tweets\n",
        "        \n",
        "\n",
        "\n",
        "def label_encode(label):\n",
        "    \"\"\"\n",
        "    return one hot encoding for Y value\n",
        "    \"\"\"\n",
        "    if label == 'real':\n",
        "        return 0\n",
        "    else:\n",
        "        return 1\n",
        "    \n",
        "def GetX(tweets, labels):\n",
        "  \n",
        "    # encode text value to numeric value\n",
        "    encoded_tweets_W2V = get_word2vec_enc(tweets)\n",
        "    encoded_tweets_Glove = get_glove_enc(tweets)\n",
        "    # padded len to maxlen\n",
        "    padded_encoded_tweets_W2V =pad_sequences(encoded_tweets_W2V, padding = 'pre', maxlen = 81, dtype='float32')\n",
        "    padded_encoded_tweets_Glove =pad_sequences(encoded_tweets_Glove, padding = 'pre', maxlen = 81, dtype='float32')\n",
        "    encoded_label = [label_encode(label) for label in labels]\n",
        "    Y = np.array(encoded_label)\n",
        "    X_w2v = np.array(padded_encoded_tweets_W2V)\n",
        "    X_glove = np.array(padded_encoded_tweets_Glove)\n",
        "    return X_w2v,X_glove"
      ]
    },
    {
      "cell_type": "code",
      "execution_count": null,
      "metadata": {
        "id": "tMgNmJyGFQjE"
      },
      "outputs": [],
      "source": [
        "X_train_w2v,X_train_glove = GetX(train_tweets, train_labels)\n",
        "X_test_w2v,X_test_glove = GetX(test_tweets, test_labels)\n",
        "X_val_w2v,X_val_glove = GetX(val_tweets, val_labels)"
      ]
    },
    {
      "cell_type": "code",
      "execution_count": null,
      "metadata": {
        "id": "g0aOEDir6sCX"
      },
      "outputs": [],
      "source": [
        "X_train_avg_w2v = tf.keras.layers.Lambda(lambda x: tf.keras.backend.mean(x, axis=1))(X_train_w2v)\n",
        "X_test_avg_w2v = tf.keras.layers.Lambda(lambda x: tf.keras.backend.mean(x, axis=1))(X_test_w2v)\n",
        "X_val_avg_w2v = tf.keras.layers.Lambda(lambda x: tf.keras.backend.mean(x, axis=1))(X_val_w2v)\n"
      ]
    },
    {
      "cell_type": "code",
      "execution_count": null,
      "metadata": {
        "id": "obdyPnjL6wCa"
      },
      "outputs": [],
      "source": [
        "X_train_avg_glove= tf.keras.layers.Lambda(lambda x: tf.keras.backend.mean(x, axis=1))(X_train_glove)\n",
        "X_test_avg_glove = tf.keras.layers.Lambda(lambda x: tf.keras.backend.mean(x, axis=1))(X_test_glove)\n",
        "X_val_avg_glove = tf.keras.layers.Lambda(lambda x: tf.keras.backend.mean(x, axis=1))(X_val_glove)"
      ]
    },
    {
      "cell_type": "markdown",
      "metadata": {
        "id": "zSD59A_bNM99"
      },
      "source": [
        "#tf-idf word embedding"
      ]
    },
    {
      "cell_type": "code",
      "execution_count": null,
      "metadata": {
        "id": "NHcXIfK3NiMD"
      },
      "outputs": [],
      "source": [
        "feature_extraction = TfidfVectorizer()"
      ]
    },
    {
      "cell_type": "code",
      "execution_count": null,
      "metadata": {
        "id": "Y4wvhOQuNiME"
      },
      "outputs": [],
      "source": [
        "train_test = [train_tweets, test_tweets]\n",
        "train_test_tweets= pd.concat(train_test)\n",
        "X = feature_extraction.fit_transform(train_test_tweets)\n"
      ]
    },
    {
      "cell_type": "code",
      "execution_count": null,
      "metadata": {
        "id": "-D9Vb0mSOcdh"
      },
      "outputs": [],
      "source": [
        "X_train_tfidf  = X[:6420]\n",
        "X_test_tfidf = X[6420:]"
      ]
    },
    {
      "cell_type": "code",
      "source": [],
      "metadata": {
        "id": "nownOkqEgA_W"
      },
      "execution_count": null,
      "outputs": []
    },
    {
      "cell_type": "markdown",
      "metadata": {
        "id": "uLBdCOQkiKQy"
      },
      "source": [
        "# transformer word embedding"
      ]
    },
    {
      "cell_type": "code",
      "execution_count": null,
      "metadata": {
        "colab": {
          "base_uri": "https://localhost:8080/",
          "height": 249,
          "referenced_widgets": [
            "a80b3d6e77ab48189f61083482f07e9d",
            "b9119afa5ba54a70a9160e300819d3a0",
            "c97f03cbacb3467dabe6d5ba14860090",
            "1cb2f8618d5c43c9b7eb24ea34db0c53",
            "f2597eebb9894413b8d7951e0d2fe365",
            "a088ac1d80f44dd9a79d80bb674395fd",
            "5fbf765395de40928a9dd8005159be9b",
            "b274d18b2b7541d19880d19409a24062",
            "60cd3fcc41b54cc88f7506239d0c4b0d",
            "fa2fd1f566be4b8688d9c822d7d27a7b",
            "2362df7a4c834ae286c0446347c673e9",
            "89a99334614645199c5669b3aaaba4bc",
            "e06c4adecec745f9809e72da5fd6d9df",
            "939b2f59d3cc444ba4cb6da83559eb33",
            "b8e4018491064327934d45a358328523",
            "0e3f27f4d705419e8a7931a704e152e9",
            "6ffd0a91edf04e44babdfd0847485fc8",
            "05d1affa12344e4aa11136a93699a528",
            "ac80ef89dd014738b207b2c668436c1e",
            "891cc1bf9815433182f4d5a0a9aa3173",
            "85645d4e1f0f482eb987a3226d6a66e7",
            "13aadcda5610451bb997f3ab84b2e324",
            "14d4c24cf17748c4b19178f9ee1e563c",
            "08b9d7e9235d44f581621cc054366df8",
            "7db04ab996064c138cdb2b64954b26e3",
            "990e4628442f4fffa7b051daf38edf65",
            "943a313d0cb94dae9a1bb87a28cfa725",
            "644c018d01c541a7bff9c7a9bc465fa5",
            "06d00df00a2347db995d1392c46f3709",
            "e8b63bc261c044e5a93559093a12faf4",
            "89058e3a814b49d9bf3abd2ffed442bd",
            "7710bf3b7df747bab28861de555ce7d1",
            "7a3d80191ce74cc5b3c8b7719fc64932",
            "21f336ed26ef43afb73a23b39b467122",
            "5033848fcfe142aca1e882c3ca5a5fde",
            "1096ce059f71405faaba4e23aae868c7",
            "fae788f4112147f9ac27f45658310a64",
            "56e7281c6ddf473192502edb558f0b89",
            "43b1d89e18764e9a9bc9c35216704053",
            "e63838de0dae4d2c87675eaabb748a2f",
            "61e5a5733e4041f0bd817a38cc69a814",
            "76257cfe599543ff89d1b2ccfd874d99",
            "e17f29b32a6b4492b9e1923749c77b9b",
            "86742a2be13f42b4afc78e1dbd09e4fd",
            "f62fc3f159ea4a3a823526e550ade895",
            "2d1d23c7c88b4ca1b2df983888b63728",
            "0d1267b3eeae4a4a9d19a6896fd7bc88",
            "41d6273ae09d4c6bb72945de95b485de",
            "d61896bbb9fb4fdba28142b296e95820",
            "2bd1bab42aff4efdb7bb998e590323e1",
            "da84f4f6a23541c3b9ad125785fc2186",
            "78443929962c4b17b8234f3eae7b029b",
            "dd546ef2a0c64eafa1a0fed62ea9bbbe",
            "644de8219aac4c218b18c9d7fac0e5ab",
            "a271bb3c4f134b1a963331cdef3d577c"
          ]
        },
        "id": "a5VpQBSYiKQy",
        "outputId": "8edcc7a8-aafe-4a7f-c51d-5e43124251b2"
      },
      "outputs": [
        {
          "data": {
            "application/vnd.jupyter.widget-view+json": {
              "model_id": "a80b3d6e77ab48189f61083482f07e9d",
              "version_major": 2,
              "version_minor": 0
            },
            "text/plain": [
              "Downloading:   0%|          | 0.00/62.0 [00:00<?, ?B/s]"
            ]
          },
          "metadata": {},
          "output_type": "display_data"
        },
        {
          "data": {
            "application/vnd.jupyter.widget-view+json": {
              "model_id": "89a99334614645199c5669b3aaaba4bc",
              "version_major": 2,
              "version_minor": 0
            },
            "text/plain": [
              "Downloading:   0%|          | 0.00/421 [00:00<?, ?B/s]"
            ]
          },
          "metadata": {},
          "output_type": "display_data"
        },
        {
          "data": {
            "application/vnd.jupyter.widget-view+json": {
              "model_id": "14d4c24cf17748c4b19178f9ee1e563c",
              "version_major": 2,
              "version_minor": 0
            },
            "text/plain": [
              "Downloading:   0%|          | 0.00/232k [00:00<?, ?B/s]"
            ]
          },
          "metadata": {},
          "output_type": "display_data"
        },
        {
          "data": {
            "application/vnd.jupyter.widget-view+json": {
              "model_id": "21f336ed26ef43afb73a23b39b467122",
              "version_major": 2,
              "version_minor": 0
            },
            "text/plain": [
              "Downloading:   0%|          | 0.00/112 [00:00<?, ?B/s]"
            ]
          },
          "metadata": {},
          "output_type": "display_data"
        },
        {
          "data": {
            "application/vnd.jupyter.widget-view+json": {
              "model_id": "f62fc3f159ea4a3a823526e550ade895",
              "version_major": 2,
              "version_minor": 0
            },
            "text/plain": [
              "Downloading:   0%|          | 0.00/1.35G [00:00<?, ?B/s]"
            ]
          },
          "metadata": {},
          "output_type": "display_data"
        },
        {
          "name": "stderr",
          "output_type": "stream",
          "text": [
            "Some weights of the model checkpoint at digitalepidemiologylab/covid-twitter-bert-v2 were not used when initializing BertModel: ['cls.predictions.bias', 'cls.predictions.decoder.bias', 'cls.predictions.transform.dense.bias', 'cls.predictions.transform.dense.weight', 'cls.seq_relationship.weight', 'cls.predictions.transform.LayerNorm.bias', 'cls.seq_relationship.bias', 'cls.predictions.transform.LayerNorm.weight', 'cls.predictions.decoder.weight']\n",
            "- This IS expected if you are initializing BertModel from the checkpoint of a model trained on another task or with another architecture (e.g. initializing a BertForSequenceClassification model from a BertForPreTraining model).\n",
            "- This IS NOT expected if you are initializing BertModel from the checkpoint of a model that you expect to be exactly identical (initializing a BertForSequenceClassification model from a BertForSequenceClassification model).\n"
          ]
        }
      ],
      "source": [
        "\n",
        "# !pip install transformers \n",
        "\n",
        "\n",
        "device = torch.device('cuda' if torch.cuda.is_available() else 'cpu')\n",
        "path = \"digitalepidemiologylab/covid-twitter-bert-v2\"\n",
        "# path = \"bert-base-uncased\"\n",
        "tokenizer = AutoTokenizer.from_pretrained(path)\n",
        "model_embedding = AutoModel.from_pretrained(path).to(device)\n"
      ]
    },
    {
      "cell_type": "code",
      "execution_count": null,
      "metadata": {
        "id": "GL99Xmt9iKQy"
      },
      "outputs": [],
      "source": [
        "model_embedding.eval()"
      ]
    },
    {
      "cell_type": "code",
      "execution_count": null,
      "metadata": {
        "id": "8rDxnYieiKQy"
      },
      "outputs": [],
      "source": [
        "\n",
        "def get_embd_tr(tweets):\n",
        "  # for j in range(4):\n",
        "  # print(i, i+4)\n",
        "  for i in range(0, len(tweets), 2):\n",
        "    if (i == 0):\n",
        "      tokenized_tweets = tokenizer(tweets.tolist()[:2], pad_to_max_length=True, max_length=81, truncation = True, return_tensors=\"pt\")\n",
        "      tokenized_tweets= {k:torch.tensor(v).to(device) for k,v in tokenized_tweets.items()}\n",
        "      with torch.no_grad():\n",
        "        hidden_tweets = model_embedding(**tokenized_tweets, output_hidden_states=True) #dim : [batch_size(nr_sentences), tokens, emb_dim]\n",
        "      hidden_states = hidden_tweets.hidden_states[22]\n",
        "      cls_train = hidden_tweets.last_hidden_state[:,0,:]\n",
        "\n",
        "    \n",
        "    else:\n",
        "      cls_train = hidden_train.hidden_states\n",
        "    \n",
        "      tokenized_tweets = tokenizer(tweets.tolist()[i:i+2], pad_to_max_length=True, max_length=81, truncation = True, return_tensors=\"pt\")\n",
        "\n",
        "      tokenized_tweets = {k:torch.tensor(v).to(device) for k,v in tokenized_tweets.items()}\n",
        "      with torch.no_grad():\n",
        "        hidden_tweets = model_embedding(**tokenized_tweets,output_hidden_states=True) #dim : [batch_size(nr_sentences), tokens, emb_dim]\n",
        "      \n",
        "      hidden_state = hidden_tweets.hidden_states[22]\n",
        "      cl_train = hidden_tweets.last_hidden_state[:,0,:]\n",
        "\n",
        "      hidden_states = torch.cat((hidden_states, hidden_state),0)\n",
        "      cls_train = torch.cat((cls_train, cl_train),0)\n",
        "\n",
        "  return cls_train, hidden_states"
      ]
    },
    {
      "cell_type": "code",
      "execution_count": null,
      "metadata": {
        "id": "7QvCEXrriKQy"
      },
      "outputs": [],
      "source": [
        "cls_train, hidden_states_train = get_embd_tr(train_tweets)\n",
        "x_cls_train = cls_train.to(\"cpu\")\n",
        "x_hiddenstates_train = hidden_states_train.to(\"cpu\").numpy()\n",
        "\n",
        "torch.cuda.empty_cache()\n",
        "\n",
        "cls_val, hidden_states_val = get_embd_tr(val_tweets)\n",
        "x_cls_val = cls_val.to(\"cpu\")\n",
        "x_hiddenstates_val = hidden_states_val.to(\"cpu\").numpy()\n",
        "\n",
        "torch.cuda.empty_cache()\n",
        "\n",
        "cls_test, hidden_states_test = get_embd_tr(test_tweets)\n",
        "x_cls_test = cls_test.to(\"cpu\")\n",
        "x_hiddenstates_test = hidden_states_test.to(\"cpu\").numpy()"
      ]
    },
    {
      "cell_type": "markdown",
      "metadata": {
        "id": "p9LgHptDGKyV"
      },
      "source": [
        "#SVM\n"
      ]
    },
    {
      "cell_type": "code",
      "execution_count": null,
      "metadata": {
        "id": "C9qMAPoTGSgm"
      },
      "outputs": [],
      "source": [
        "import numpy as np\n",
        "\n",
        "class HardMarginSVM:\n",
        "    \"\"\"\n",
        "    Attributes\n",
        "    ----------\n",
        "    eta : float\n",
        "    epoch : int\n",
        "    random_state : int\n",
        "    is_trained : bool\n",
        "    num_samples : int\n",
        "    num_features : int\n",
        "    w : NDArray[float]\n",
        "    b : float\n",
        "    alpha : NDArray[float]\n",
        "\n",
        "    Methods\n",
        "    -------\n",
        "    fit -> None\n",
        "        Fitting parameter vectors for training data\n",
        "    predict -> NDArray[int]\n",
        "        Return predicted value\n",
        "    \"\"\"\n",
        "    def __init__(self, eta=0.0000001, epoch=1000, random_state=5):\n",
        "        self.eta = eta\n",
        "        self.epoch = epoch\n",
        "        self.random_state = random_state\n",
        "        self.is_trained = False\n",
        "\n",
        "    def fit(self, X, y):\n",
        "        \"\"\"\n",
        "        Fitting parameter vectors for training data\n",
        "\n",
        "        Parameters\n",
        "        ----------\n",
        "        X : NDArray[NDArray[float]]\n",
        "        y : NDArray[float]\n",
        "        \"\"\"\n",
        "        self.num_samples = X.shape[0]\n",
        "        self.num_features = X.shape[1]\n",
        "        self.w = np.zeros(self.num_features)\n",
        "        self.b = 0\n",
        "        rgen = np.random.RandomState(self.random_state)\n",
        "        self.alpha = rgen.normal(loc=0.0, scale=0.01, size=self.num_samples)\n",
        "\n",
        "        for _ in range(self.epoch):\n",
        "            self._cycle(X, y)\n",
        "        \n",
        "        indexes_sv = [i for i in range(self.num_samples) if self.alpha[i] != 0]\n",
        "        for i in indexes_sv:\n",
        "            self.w += self.alpha[i] * y[i] * X[i]\n",
        "        for i in indexes_sv:\n",
        "            self.b += y[i] - (self.w @ X[i])\n",
        "        self.b /= len(indexes_sv)\n",
        "        self.is_trained = True\n",
        "\n",
        "    def predict(self, X):\n",
        "        \"\"\"\n",
        "        Return predicted value\n",
        "\n",
        "        Parameters\n",
        "        ----------\n",
        "        X : NDArray[NDArray[float]]\n",
        "\n",
        "        Returns\n",
        "        -------\n",
        "        result : NDArray[int]\n",
        "        \"\"\"\n",
        "        if not self.is_trained:\n",
        "            raise Exception('This model is not trained.')\n",
        "\n",
        "        hyperplane = X @ self.w + self.b\n",
        "        result = np.where(hyperplane > 0, 1, -1)\n",
        "        return result\n",
        "        \n",
        "    def _cycle(self, X, y):\n",
        "        \"\"\"\n",
        "        One cycle of gradient descent method\n",
        "\n",
        "        Parameters\n",
        "        ----------\n",
        "        X : NDArray[NDArray[float]]\n",
        "        y : NDArray[float]\n",
        "        \"\"\"\n",
        "        y = y.reshape([-1, 1])\n",
        "        H = (y @ y.T) * (X @ X.T)\n",
        "        grad = np.ones(self.num_samples) - H @ self.alpha\n",
        "        self.alpha += self.eta * grad\n",
        "        self.alpha = np.where(self.alpha < 0, 0, self.alpha)"
      ]
    },
    {
      "cell_type": "code",
      "execution_count": null,
      "metadata": {
        "id": "GBiGRrCPGfAb"
      },
      "outputs": [],
      "source": [
        "from sklearn.preprocessing import StandardScaler\n",
        "\n",
        "sc = StandardScaler()\n",
        "X_tr = sc.fit_transform(X_train_avg_w2v)\n",
        "X_te = sc.fit_transform(X_test_avg_w2v)\n",
        "y_tr = np.where(y_train==0, -1, 1)\n",
        "y_te = np.where(y_test==0, -1, 1)"
      ]
    },
    {
      "cell_type": "code",
      "execution_count": null,
      "metadata": {
        "id": "OirK6KbCGiop"
      },
      "outputs": [],
      "source": [
        "hard_margin_svm = HardMarginSVM()\n"
      ]
    },
    {
      "cell_type": "code",
      "execution_count": null,
      "metadata": {
        "id": "vD4bV3j9NeBQ"
      },
      "outputs": [],
      "source": [
        "hard_margin_svm.fit(X_tr, y_tr)\n"
      ]
    },
    {
      "cell_type": "code",
      "execution_count": null,
      "metadata": {
        "id": "Mfspp2sjS2mo"
      },
      "outputs": [],
      "source": [
        "predict = hard_margin_svm.predict(X_te)"
      ]
    },
    {
      "cell_type": "code",
      "execution_count": null,
      "metadata": {
        "id": "iA1jXkQITFY8"
      },
      "outputs": [],
      "source": [
        "# Create confusion matrix\n",
        "from sklearn.metrics import confusion_matrix, f1_score, accuracy_score, classification_report\n",
        "print(confusion_matrix(y_te, predict))\n",
        "# Display accuracy score\n",
        "print(accuracy_score(y_te,predict))\n",
        "# Display F1 score\n",
        "print(classification_report(y_te,predict))\n",
        "accuracy_score(y_te, predict)\n"
      ]
    },
    {
      "cell_type": "markdown",
      "source": [
        "SVM with library"
      ],
      "metadata": {
        "id": "cdt0EKSDbGHW"
      }
    },
    {
      "cell_type": "code",
      "execution_count": null,
      "metadata": {
        "id": "PGElwrVGuV-Z"
      },
      "outputs": [],
      "source": [
        "from sklearn import svm\n",
        "\n",
        "sk_svm = svm.LinearSVC(C=0.0001, random_state=42)\n",
        "sk_svm.fit(X_tr, y_tr)\n"
      ]
    },
    {
      "cell_type": "code",
      "execution_count": null,
      "metadata": {
        "id": "Vh18SYecuad7"
      },
      "outputs": [],
      "source": [
        "pre = sk_svm.predict(X_te)"
      ]
    },
    {
      "cell_type": "code",
      "execution_count": null,
      "metadata": {
        "id": "kqzI8WQBujI8"
      },
      "outputs": [],
      "source": [
        "# Create confusion matrix\n",
        "from sklearn.metrics import confusion_matrix, f1_score, accuracy_score, classification_report\n",
        "print(confusion_matrix(y_te, pre))\n",
        "# Display accuracy score\n",
        "print(accuracy_score(y_te,pre))\n",
        "# Display F1 score\n",
        "print(classification_report(y_te,pre))\n",
        "accuracy_score(y_te, pre)"
      ]
    },
    {
      "cell_type": "markdown",
      "metadata": {
        "id": "L7MMnF4xypUT"
      },
      "source": [
        "# Random Forest"
      ]
    },
    {
      "cell_type": "code",
      "execution_count": null,
      "metadata": {
        "id": "2dmhrQZh06os"
      },
      "outputs": [],
      "source": [
        "# Calculate accuracy percentage\n",
        "def accuracy_metric(actual, predicted):\n",
        "\tcorrect = 0\n",
        "\tfor i in range(len(actual)):\n",
        "\t\tif actual[i] == predicted[i]:\n",
        "\t\t\tcorrect += 1\n",
        "\treturn correct / float(len(actual)) * 100.0"
      ]
    },
    {
      "cell_type": "code",
      "execution_count": null,
      "metadata": {
        "id": "oh51KOu408MV"
      },
      "outputs": [],
      "source": [
        "# Evaluate an algorithm using a cross validation split\n",
        "def evaluate_algorithm(train_set,test_set, algorithm, *args):\n",
        "\tpredicted = algorithm(train_set, test_set, *args)\n",
        "\t# actual = [row[-1] for row in fold]\n",
        "\t# accuracy = accuracy_metric(actual, predicted)\n",
        "\t# scores.append(accuracy)\n",
        "\treturn predicted"
      ]
    },
    {
      "cell_type": "code",
      "execution_count": null,
      "metadata": {
        "id": "kCis_AOE0-F3"
      },
      "outputs": [],
      "source": [
        "# Split a dataset based on an attribute and an attribute value\n",
        "def test_split(index, value, dataset):\n",
        "\tleft, right = list(), list()\n",
        "\tfor row in dataset:\n",
        "\t\tif row[index] < value:\n",
        "\t\t\tleft.append(row)\n",
        "\t\telse:\n",
        "\t\t\tright.append(row)\n",
        "\treturn left, right"
      ]
    },
    {
      "cell_type": "code",
      "execution_count": null,
      "metadata": {
        "id": "FyFqeKR40_5b"
      },
      "outputs": [],
      "source": [
        "# Calculate the Gini index for a split dataset\n",
        "def gini_index(groups, classes):\n",
        "\t# count all samples at split point\n",
        "\tn_instances = float(sum([len(group) for group in groups]))\n",
        "\t# sum weighted Gini index for each group\n",
        "\tgini = 0.0\n",
        "\tfor group in groups:\n",
        "\t\tsize = float(len(group))\n",
        "\t\t# avoid divide by zero\n",
        "\t\tif size == 0:\n",
        "\t\t\tcontinue\n",
        "\t\tscore = 0.0\n",
        "\t\t# score the group based on the score for each class\n",
        "\t\tfor class_val in classes:\n",
        "\t\t\tp = [row[-1] for row in group].count(class_val) / size\n",
        "\t\t\tscore += p * p\n",
        "\t\t# weight the group score by its relative size\n",
        "\t\tgini += (1.0 - score) * (size / n_instances)\n",
        "\treturn gini"
      ]
    },
    {
      "cell_type": "code",
      "execution_count": null,
      "metadata": {
        "id": "d4PVFo8E1CKA"
      },
      "outputs": [],
      "source": [
        "# Select the best split point for a dataset\n",
        "def get_split(dataset, n_features):\n",
        "\tclass_values = list(set(row[-1] for row in dataset))\n",
        "\tb_index, b_value, b_score, b_groups = 999, 999, 999, None\n",
        "\tfeatures = list()\n",
        "\twhile len(features) < n_features:\n",
        "\t\tindex = randrange(len(dataset[0])-1)\n",
        "\t\tif index not in features:\n",
        "\t\t\tfeatures.append(index)\n",
        "\tfor index in features:\n",
        "\t\tfor row in dataset:\n",
        "\t\t\tgroups = test_split(index, row[index], dataset)\n",
        "\t\t\tgini = gini_index(groups, class_values)\n",
        "\t\t\tif gini < b_score:\n",
        "\t\t\t\tb_index, b_value, b_score, b_groups = index, row[index], gini, groups\n",
        "\treturn {'index':b_index, 'value':b_value, 'groups':b_groups}"
      ]
    },
    {
      "cell_type": "code",
      "execution_count": null,
      "metadata": {
        "id": "td1f6axZ1D6C"
      },
      "outputs": [],
      "source": [
        "# Create a terminal node value\n",
        "def to_terminal(group):\n",
        "\toutcomes = [row[-1] for row in group]\n",
        "\treturn max(set(outcomes), key=outcomes.count)"
      ]
    },
    {
      "cell_type": "code",
      "execution_count": null,
      "metadata": {
        "id": "_Cw8tEfM1FlC"
      },
      "outputs": [],
      "source": [
        "# Create child splits for a node or make terminal\n",
        "def split(node, max_depth, min_size, n_features, depth):\n",
        "\tleft, right = node['groups']\n",
        "\tdel(node['groups'])\n",
        "\t# check for a no split\n",
        "\tif not left or not right:\n",
        "\t\tnode['left'] = node['right'] = to_terminal(left + right)\n",
        "\t\treturn\n",
        "\t# check for max depth\n",
        "\tif depth >= max_depth:\n",
        "\t\tnode['left'], node['right'] = to_terminal(left), to_terminal(right)\n",
        "\t\treturn\n",
        "\t# process left child\n",
        "\tif len(left) <= min_size:\n",
        "\t\tnode['left'] = to_terminal(left)\n",
        "\telse:\n",
        "\t\tnode['left'] = get_split(left, n_features)\n",
        "\t\tsplit(node['left'], max_depth, min_size, n_features, depth+1)\n",
        "\t# process right child\n",
        "\tif len(right) <= min_size:\n",
        "\t\tnode['right'] = to_terminal(right)\n",
        "\telse:\n",
        "\t\tnode['right'] = get_split(right, n_features)\n",
        "\t\tsplit(node['right'], max_depth, min_size, n_features, depth+1)"
      ]
    },
    {
      "cell_type": "code",
      "execution_count": null,
      "metadata": {
        "id": "SyFfQuIi1Hm4"
      },
      "outputs": [],
      "source": [
        "# Build a decision tree\n",
        "def build_tree(train, max_depth, min_size, n_features):\n",
        "\troot = get_split(train, n_features)\n",
        "\tsplit(root, max_depth, min_size, n_features, 1)\n",
        "\treturn root"
      ]
    },
    {
      "cell_type": "code",
      "execution_count": null,
      "metadata": {
        "id": "hH6vMwly1JQO"
      },
      "outputs": [],
      "source": [
        "# Make a prediction with a decision tree\n",
        "def predict(node, row):\n",
        "\tif row[node['index']] < node['value']:\n",
        "\t\tif isinstance(node['left'], dict):\n",
        "\t\t\treturn predict(node['left'], row)\n",
        "\t\telse:\n",
        "\t\t\treturn node['left']\n",
        "\telse:\n",
        "\t\tif isinstance(node['right'], dict):\n",
        "\t\t\treturn predict(node['right'], row)\n",
        "\t\telse:\n",
        "\t\t\treturn node['right']"
      ]
    },
    {
      "cell_type": "code",
      "execution_count": null,
      "metadata": {
        "id": "c6KpcmUH1MIV"
      },
      "outputs": [],
      "source": [
        "# Create a random subsample from the dataset with replacement\n",
        "def subsample(dataset, ratio):\n",
        "\tsample = list()\n",
        "\tn_sample = round(len(dataset) * ratio)\n",
        "\twhile len(sample) < n_sample:\n",
        "\t\tindex = randrange(len(dataset))\n",
        "\t\tsample.append(dataset[index])\n",
        "\treturn sample"
      ]
    },
    {
      "cell_type": "code",
      "execution_count": null,
      "metadata": {
        "id": "6sqkVbOi1PMN"
      },
      "outputs": [],
      "source": [
        "# Make a prediction with a list of bagged trees\n",
        "def bagging_predict(trees, row):\n",
        "\tpredictions = [predict(tree, row) for tree in trees]\n",
        "\treturn max(set(predictions), key=predictions.count)"
      ]
    },
    {
      "cell_type": "code",
      "execution_count": null,
      "metadata": {
        "id": "do3AiNw2b0HR"
      },
      "outputs": [],
      "source": [
        "# Random Forest Algorithm\n",
        "def random_forest(train, test, max_depth, min_size, sample_size, n_trees, n_features):\n",
        "\ttrees = list()\n",
        "\tfor i in range(n_trees):\n",
        "\t\tsample = subsample(train, sample_size)\n",
        "\t\ttree = build_tree(sample, max_depth, min_size, n_features)\n",
        "\t\ttrees.append(tree)\n",
        "\tpredictions = [bagging_predict(trees, row) for row in test]\n",
        "\treturn(predictions)\n"
      ]
    },
    {
      "cell_type": "code",
      "execution_count": null,
      "metadata": {
        "id": "mIiQNToniARj"
      },
      "outputs": [],
      "source": [
        "my_dataset = X_train_avg_w2v.numpy().copy()"
      ]
    },
    {
      "cell_type": "code",
      "execution_count": null,
      "metadata": {
        "id": "S-y71PPOhoAG"
      },
      "outputs": [],
      "source": [
        "data_train = []\n",
        "for i in range(len(my_dataset)):\n",
        "  item_list = list(my_dataset[i])\n",
        "  print(item_list)\n",
        "  item_list.append(y_train[i])\n",
        "  print(item_list)\n",
        "  data_train.append(item_list)\n",
        "  # list(my_dataset[i]).append(y_train[i])\n",
        "  \n"
      ]
    },
    {
      "cell_type": "code",
      "execution_count": null,
      "metadata": {
        "id": "4pGGs-Br2dty"
      },
      "outputs": [],
      "source": [
        "my_dataset_test = X_test_avg_w2v.numpy().copy()"
      ]
    },
    {
      "cell_type": "code",
      "execution_count": null,
      "metadata": {
        "id": "rBXfASM92jTl"
      },
      "outputs": [],
      "source": [
        "data_test = []\n",
        "for i in range(len(my_dataset_test)):\n",
        "  item_list = list(my_dataset_test[i])\n",
        "  print(item_list)\n",
        "  item_list.append(y_test[i])\n",
        "  print(item_list)\n",
        "  data_test.append(item_list)\n",
        "  # list(my_dataset[i]).append(y_train[i])"
      ]
    },
    {
      "cell_type": "code",
      "execution_count": null,
      "metadata": {
        "id": "qt8RspE_3duw"
      },
      "outputs": [],
      "source": [
        "# convert string attributes to integers\n",
        "\n",
        "# evaluate algorithm\n",
        "n_folds = 5\n",
        "max_depth = 10\n",
        "min_size = 1\n",
        "sample_size = 1.0\n",
        "# n_features = int(sqrt(len(dataset[0])-1))\n",
        "n_features = 100\n",
        "predicts = []\n",
        "for n_trees in [1, 5, 10]:\n",
        "\tpre = evaluate_algorithm(data_train[:3000],data_test, random_forest, max_depth, min_size, sample_size, 1, n_features)\n",
        "\tprint(pre)\n",
        "\tpredicts.append(pre)\n",
        "\t# print('Trees: %d' % n_trees)\n",
        "\t# print('Scores: %s' % scores)\n",
        "\t# print('Mean Accuracy: %.3f%%' % (sum(scores)/float(len(scores))))"
      ]
    },
    {
      "cell_type": "code",
      "execution_count": null,
      "metadata": {
        "id": "GRdkzH55LiXS"
      },
      "outputs": [],
      "source": [
        "# Create confusion matrix\n",
        "from sklearn.metrics import confusion_matrix, f1_score, accuracy_score, classification_report\n",
        "for i in range(3):\n",
        "  print(\"number\", i)\n",
        "  print(confusion_matrix(y_test[:500], predicts[i]))\n",
        "  # Display accuracy score\n",
        "  print(accuracy_score(y_test[:500], predicts[i]))\n",
        "  # Display F1 score\n",
        "  print(classification_report(y_test[:500], predicts[i]))\n",
        "  accuracy_score(y_test[:500], predicts[i])\n",
        "  print(\"\\n\")\n"
      ]
    },
    {
      "cell_type": "markdown",
      "metadata": {
        "id": "brJL1Zjklmb6"
      },
      "source": [
        "Random Forest with library"
      ]
    },
    {
      "cell_type": "code",
      "execution_count": null,
      "metadata": {
        "id": "fJls_BJtiKQv"
      },
      "outputs": [],
      "source": [
        "# Instantiate and fit a basic Random Forest model on top of the vectors\n",
        "from sklearn.ensemble import RandomForestClassifier\n",
        "random_f = RandomForestClassifier(criterion=\"gini\", n_estimators=10, max_depth =10,min_samples_split = 0.1,max_features= 100,)\n",
        "random_f_model = random_f.fit(X_train_avg_w2v, y_train)"
      ]
    },
    {
      "cell_type": "code",
      "execution_count": null,
      "metadata": {
        "id": "9uhCKC2DiKQw"
      },
      "outputs": [],
      "source": [
        "# Use the trained model to make predictions on the test data\n",
        "y_pred = random_f_model.predict(X_test_avg_w2v)"
      ]
    },
    {
      "cell_type": "code",
      "execution_count": null,
      "metadata": {
        "id": "HU3HGgSfiKQw"
      },
      "outputs": [],
      "source": [
        "# Create confusion matrix\n",
        "from sklearn.metrics import confusion_matrix, f1_score, accuracy_score, classification_report\n",
        "print(confusion_matrix(y_test, y_pred))\n",
        "# Display accuracy score\n",
        "print(accuracy_score(y_test,y_pred))\n",
        "# Display F1 score\n",
        "print(classification_report(y_test,y_pred))\n",
        "accuracy_score(y_test, y_pred)\n"
      ]
    },
    {
      "cell_type": "markdown",
      "metadata": {
        "id": "qOTmxeUZW-BS"
      },
      "source": [
        "## **Add Extra features**"
      ]
    },
    {
      "cell_type": "markdown",
      "metadata": {
        "id": "tK2CxEWuzpDY"
      },
      "source": [
        "# sentiment"
      ]
    },
    {
      "cell_type": "code",
      "execution_count": null,
      "metadata": {
        "id": "-zqi1UZKzrTm"
      },
      "outputs": [],
      "source": [
        "from vaderSentiment.vaderSentiment import SentimentIntensityAnalyzer\n",
        " \n",
        "# function to print sentiments\n",
        "# of the sentence.\n",
        "def sentiment_scores(sentence):\n",
        "    sid_obj = SentimentIntensityAnalyzer()\n",
        "    sentiment_dict = sid_obj.polarity_scores(sentence)\n",
        "\n",
        "    # decide sentiment as positive(1), negative(-1) and neutral(0)\n",
        "    if sentiment_dict['compound'] >= 0.05 :\n",
        "        return 1\n",
        " \n",
        "    elif sentiment_dict['compound'] <= - 0.05 :\n",
        "        return -1\n",
        " \n",
        "    else :\n",
        "        return 0\n",
        " \n",
        " \n",
        " "
      ]
    },
    {
      "cell_type": "code",
      "source": [
        "def Sentiment_data(tweets):\n",
        "  sent_data = []\n",
        "  for i  in range(len(tweets)):\n",
        "    s = sentiment_scores(tweets[i])\n",
        "    sent_data.append(s)\n",
        "  return sent_data\n",
        "\n"
      ],
      "metadata": {
        "id": "o0pWUOsFddWl"
      },
      "execution_count": null,
      "outputs": []
    },
    {
      "cell_type": "code",
      "execution_count": null,
      "metadata": {
        "id": "y9MA33PeXCPk"
      },
      "outputs": [],
      "source": [
        "sent_data_train = Sentiment_data(train_tweets)\n",
        "sent_data_val = Sentiment_data(val_tweets)\n",
        "sent_data_test = Sentiment_data(test_tweets)\n",
        "\n"
      ]
    },
    {
      "cell_type": "markdown",
      "source": [],
      "metadata": {
        "id": "T33zTJa_fKmv"
      }
    },
    {
      "cell_type": "markdown",
      "source": [
        "# Tweet length"
      ],
      "metadata": {
        "id": "L756dZDwegPI"
      }
    },
    {
      "cell_type": "code",
      "source": [
        "def Tweet_length(tweets):\n",
        "  len_tweet = []\n",
        "  for i in range(len(tweets)):\n",
        "  l = len(tweets[i])\n",
        "  len_tweet.append(l)"
      ],
      "metadata": {
        "id": "j3k-XAlzfV0b"
      },
      "execution_count": null,
      "outputs": []
    },
    {
      "cell_type": "code",
      "execution_count": null,
      "metadata": {
        "id": "EbDVEM5jhLn9"
      },
      "outputs": [],
      "source": [
        "len_train = Tweet_length(train_tweets)\n",
        "len_val = Tweet_length(val_tweets)\n",
        "len_test = Tweet_length(test_tweets)"
      ]
    },
    {
      "cell_type": "markdown",
      "metadata": {
        "id": "h2xhub7WIhWP"
      },
      "source": [
        "# Neural networks"
      ]
    },
    {
      "cell_type": "code",
      "execution_count": null,
      "metadata": {
        "id": "Ni1IEim-3fqv"
      },
      "outputs": [],
      "source": [
        "# trasfromer embedding\n",
        "sentence_length = x_hidden_states_train.shape[1]\n",
        "feature_number =x_hidden_states_train.shape[2]\n"
      ]
    },
    {
      "cell_type": "code",
      "execution_count": null,
      "metadata": {
        "id": "aHGrGiUZmtGh"
      },
      "outputs": [],
      "source": [
        "# word2vec\n",
        "sentence_length = X_train_w2v.shape[1]\n",
        "feature_number = 8\n"
      ]
    },
    {
      "cell_type": "code",
      "execution_count": null,
      "metadata": {
        "id": "wukrPl_rS12Z"
      },
      "outputs": [],
      "source": [
        "inputA = layers.Input(shape=(sentence_length,feature_number))\n"
      ]
    },
    {
      "cell_type": "code",
      "execution_count": null,
      "metadata": {
        "id": "_GW5QN41mqnj"
      },
      "outputs": [],
      "source": [
        "model = Sequential()\n",
        "model.add(inputA)\n",
        "\n",
        "# LSTM\n",
        "# model.add(LSTM(32, dropout=0.2,  return_sequences=False))\n",
        "\n",
        "# GRU\n",
        "# model.add(GRU(32, dropout=0.2,  return_sequences=False))\n",
        "\n",
        "# Bi LSTM\n",
        "# model.add(Bidirectional(LSTM(32, dropout=0.2,  return_sequences=False)))\n",
        "\n",
        "# Bi GRU\n",
        "model.add(Bidirectional(GRU(32, dropout=0.2,  return_sequences=False)))\n",
        "\n",
        "model.add(layers.Dense(1, activation='sigmoid', name=\"dense\"))"
      ]
    },
    {
      "cell_type": "markdown",
      "source": [
        "Model with sentiment and tweet length feature"
      ],
      "metadata": {
        "id": "igrfa_13ABVw"
      }
    },
    {
      "cell_type": "code",
      "execution_count": null,
      "metadata": {
        "id": "xbajLZJFMfUA"
      },
      "outputs": [],
      "source": [
        "# define two sets of inputs\n",
        "inputB = layers.Input(shape=(1,))\n",
        "inputC = layers.Input(shape=(1,))\n",
        "\n",
        "x = Bidirectional(GRU(32, dropout=0.2,  return_sequences=True))(inputA)\n",
        "x = layers.Flatten()(x)\n",
        "x = Dense(4, activation=\"relu\")(x)\n",
        "x = Model(inputs=inputA, outputs=x)\n",
        "\n",
        "y = Dense(4,activation=\"relu\")(inputB)\n",
        "y = Model(inputs=inputB, outputs=y)\n",
        "\n",
        "w = Dense(4, activation=\"relu\")(inputC)\n",
        "w = Model(inputs=inputC, outputs=w)\n",
        "\n",
        "# combine the output of the three branches\n",
        "combined = layers.concatenate([x.output, y.output, w.output])\n",
        "# combined outputs\n",
        "z = Dense(1, activation=\"sigmoid\")(combined)\n",
        "\n",
        "# our model will accept the inputs of the three branches and\n",
        "# then output a single value\n",
        "model = Model(inputs=[x.input, y.input, w.input], outputs=z)\n"
      ]
    },
    {
      "cell_type": "code",
      "execution_count": null,
      "metadata": {
        "id": "4NNVjQPMKCKi"
      },
      "outputs": [],
      "source": [
        "opt = tf.keras.optimizers.Adam(learning_rate=00.0001)\n",
        "# opt=AdamW(learning_rate=00.0001, weight_decay = 0.000000001)\n",
        "# from tensorflow_addons.optimizers import AdamW\n",
        "model.compile(optimizer=opt, loss='binary_crossentropy', metrics=['accuracy',f1_m,precision_m, recall_m])\n"
      ]
    },
    {
      "cell_type": "code",
      "execution_count": null,
      "metadata": {
        "id": "bl5gOpZ53zZX"
      },
      "outputs": [],
      "source": [
        "# word2vec\n",
        "history = model_nn.fit(x = x_hidden_states_train, y = y_train,epochs=50, validation_data=(x_hidden_states_val, y_val))"
      ]
    },
    {
      "cell_type": "code",
      "execution_count": null,
      "metadata": {
        "id": "ObffBOCjOP1f"
      },
      "outputs": [],
      "source": [
        "print(confusion_matrix(y_test,pred))\n",
        "print(classification_report(y_test,pred))\n",
        "accuracy_score(y_test, pred)"
      ]
    },
    {
      "cell_type": "code",
      "execution_count": null,
      "metadata": {
        "id": "upojlHprUsfP"
      },
      "outputs": [],
      "source": [
        "in2 = np.array(sent_data_train)\n",
        "val_in2= np.array(sent_data_valid)\n"
      ]
    },
    {
      "cell_type": "code",
      "execution_count": null,
      "metadata": {
        "id": "N79qQiO7ZMa4"
      },
      "outputs": [],
      "source": [
        "in1=x_hidden_states_train\n",
        "val_in1 =x_hidden_states_val\n"
      ]
    },
    {
      "cell_type": "code",
      "execution_count": null,
      "metadata": {
        "colab": {
          "background_save": true
        },
        "id": "jFsNotaMlZ2P"
      },
      "outputs": [],
      "source": [
        "in3=np.array(len_train)\n",
        "val_in3 =np.array(len_val)\n"
      ]
    },
    {
      "cell_type": "code",
      "execution_count": null,
      "metadata": {
        "id": "q0aXlgSI3xhR"
      },
      "outputs": [],
      "source": [
        "test_in2 = np.array(sent_data_test)\n",
        "test_in1 = x_hidden_states_test\n",
        "# test_in3  =np.array(len_test)\n"
      ]
    },
    {
      "cell_type": "code",
      "execution_count": null,
      "metadata": {
        "id": "ijTI1Z6rrMzw"
      },
      "outputs": [],
      "source": [
        "from tensorflow.keras.utils import Sequence\n",
        "import numpy as np   \n",
        "\n",
        "class DataGenerator(Sequence):\n",
        "    def __init__(self, x_set, y_set, batch_size):\n",
        "        self.x, self.y = x_set, y_set\n",
        "        self.batch_size = batch_size\n",
        "\n",
        "    def __len__(self):\n",
        "        return int(np.ceil(len(self.x) / float(self.batch_size)))\n",
        "\n",
        "    def __getitem__(self, idx):\n",
        "        batch_x = self.x[idx * self.batch_size:(idx + 1) * self.batch_size]\n",
        "        batch_y = self.y[idx * self.batch_size:(idx + 1) * self.batch_size]\n",
        "        return batch_x, batch_y\n",
        "\n",
        "train_gen = DataGenerator([x_hiddenstates_train, in2, in3], y_train, 16)\n",
        "\n",
        "val_gen = DataGenerator([x_hiddenstates_val, val_in2, val_in3],y_val, 16)\n"
      ]
    },
    {
      "cell_type": "code",
      "execution_count": null,
      "metadata": {
        "id": "FHz61C0TKYfs"
      },
      "outputs": [],
      "source": [
        "# transformer\n",
        "# x=[trainAttrX, trainImagesX], y=trainY,\n",
        "\n",
        "# history = model.fit(train_gen,\n",
        "#                     epochs=6,\n",
        "#                     validation_data=test_gen)\n",
        "history = model.fit(dataset_train,epochs=50, validation_data=(dataset_val))\n",
        "# history = model.fit(x =[x_hiddenstates_train,in2,in3],y = y_train ,epochs=50, validation_data=([x_hiddenstates_val,val_in2,val_in3], y_val))"
      ]
    },
    {
      "cell_type": "code",
      "execution_count": null,
      "metadata": {
        "id": "1puHZlsQk3ed"
      },
      "outputs": [],
      "source": [
        "import matplotlib.pyplot as plt\n",
        "plt.style.use('ggplot')\n",
        "\n",
        "# def plot_history(history):\n",
        "acc = history.history['accuracy']\n",
        "val_acc = history.history['val_accuracy']\n",
        "loss = history.history['loss']\n",
        "val_loss = history.history['val_loss']\n",
        "x = range(1, len(acc) + 1)\n",
        "\n",
        "plt.figure(figsize=(12, 5))\n",
        "plt.subplot(1, 2, 1)\n",
        "plt.plot(x, acc, 'b', label='Training acc')\n",
        "plt.plot(x, val_acc, 'r', label='Validation acc')\n",
        "plt.title('Training and validation accuracy')\n",
        "plt.legend()\n",
        "plt.subplot(1, 2, 2)\n",
        "plt.plot(x, loss, 'b', label='Training loss')\n",
        "plt.plot(x, val_loss, 'r', label='Validation loss')\n",
        "plt.title('Training and validation loss')\n",
        "plt.legend()"
      ]
    }
  ],
  "metadata": {
    "accelerator": "GPU",
    "colab": {
      "collapsed_sections": [
        "7NbyCPepxRFv",
        "vqRm8YtX5tTI",
        "qWTo5Jw_4hEc",
        "xNtHk4W8CeuW",
        "QmPlP0whiHrM",
        "zSD59A_bNM99",
        "uLBdCOQkiKQy",
        "tK2CxEWuzpDY",
        "3OiQwPc1l92g",
        "N-jfjP2IloeG",
        "Yq50LCUF8Y8-",
        "L6wE9nqkaOSV",
        "02Qx4CZfq04B"
      ],
      "provenance": [],
      "include_colab_link": true
    },
    "gpuClass": "standard",
    "kernelspec": {
      "display_name": "Python 3",
      "name": "python3"
    },
    "language_info": {
      "name": "python"
    },
    "widgets": {
      "application/vnd.jupyter.widget-state+json": {
        "05d1affa12344e4aa11136a93699a528": {
          "model_module": "@jupyter-widgets/controls",
          "model_module_version": "1.5.0",
          "model_name": "DescriptionStyleModel",
          "state": {
            "_model_module": "@jupyter-widgets/controls",
            "_model_module_version": "1.5.0",
            "_model_name": "DescriptionStyleModel",
            "_view_count": null,
            "_view_module": "@jupyter-widgets/base",
            "_view_module_version": "1.2.0",
            "_view_name": "StyleView",
            "description_width": ""
          }
        },
        "06d00df00a2347db995d1392c46f3709": {
          "model_module": "@jupyter-widgets/controls",
          "model_module_version": "1.5.0",
          "model_name": "DescriptionStyleModel",
          "state": {
            "_model_module": "@jupyter-widgets/controls",
            "_model_module_version": "1.5.0",
            "_model_name": "DescriptionStyleModel",
            "_view_count": null,
            "_view_module": "@jupyter-widgets/base",
            "_view_module_version": "1.2.0",
            "_view_name": "StyleView",
            "description_width": ""
          }
        },
        "08b9d7e9235d44f581621cc054366df8": {
          "model_module": "@jupyter-widgets/controls",
          "model_module_version": "1.5.0",
          "model_name": "HTMLModel",
          "state": {
            "_dom_classes": [],
            "_model_module": "@jupyter-widgets/controls",
            "_model_module_version": "1.5.0",
            "_model_name": "HTMLModel",
            "_view_count": null,
            "_view_module": "@jupyter-widgets/controls",
            "_view_module_version": "1.5.0",
            "_view_name": "HTMLView",
            "description": "",
            "description_tooltip": null,
            "layout": "IPY_MODEL_644c018d01c541a7bff9c7a9bc465fa5",
            "placeholder": "​",
            "style": "IPY_MODEL_06d00df00a2347db995d1392c46f3709",
            "value": "Downloading: 100%"
          }
        },
        "0d1267b3eeae4a4a9d19a6896fd7bc88": {
          "model_module": "@jupyter-widgets/controls",
          "model_module_version": "1.5.0",
          "model_name": "FloatProgressModel",
          "state": {
            "_dom_classes": [],
            "_model_module": "@jupyter-widgets/controls",
            "_model_module_version": "1.5.0",
            "_model_name": "FloatProgressModel",
            "_view_count": null,
            "_view_module": "@jupyter-widgets/controls",
            "_view_module_version": "1.5.0",
            "_view_name": "ProgressView",
            "bar_style": "success",
            "description": "",
            "description_tooltip": null,
            "layout": "IPY_MODEL_78443929962c4b17b8234f3eae7b029b",
            "max": 1345068539,
            "min": 0,
            "orientation": "horizontal",
            "style": "IPY_MODEL_dd546ef2a0c64eafa1a0fed62ea9bbbe",
            "value": 1345068539
          }
        },
        "0e3f27f4d705419e8a7931a704e152e9": {
          "model_module": "@jupyter-widgets/base",
          "model_module_version": "1.2.0",
          "model_name": "LayoutModel",
          "state": {
            "_model_module": "@jupyter-widgets/base",
            "_model_module_version": "1.2.0",
            "_model_name": "LayoutModel",
            "_view_count": null,
            "_view_module": "@jupyter-widgets/base",
            "_view_module_version": "1.2.0",
            "_view_name": "LayoutView",
            "align_content": null,
            "align_items": null,
            "align_self": null,
            "border": null,
            "bottom": null,
            "display": null,
            "flex": null,
            "flex_flow": null,
            "grid_area": null,
            "grid_auto_columns": null,
            "grid_auto_flow": null,
            "grid_auto_rows": null,
            "grid_column": null,
            "grid_gap": null,
            "grid_row": null,
            "grid_template_areas": null,
            "grid_template_columns": null,
            "grid_template_rows": null,
            "height": null,
            "justify_content": null,
            "justify_items": null,
            "left": null,
            "margin": null,
            "max_height": null,
            "max_width": null,
            "min_height": null,
            "min_width": null,
            "object_fit": null,
            "object_position": null,
            "order": null,
            "overflow": null,
            "overflow_x": null,
            "overflow_y": null,
            "padding": null,
            "right": null,
            "top": null,
            "visibility": null,
            "width": null
          }
        },
        "1096ce059f71405faaba4e23aae868c7": {
          "model_module": "@jupyter-widgets/controls",
          "model_module_version": "1.5.0",
          "model_name": "FloatProgressModel",
          "state": {
            "_dom_classes": [],
            "_model_module": "@jupyter-widgets/controls",
            "_model_module_version": "1.5.0",
            "_model_name": "FloatProgressModel",
            "_view_count": null,
            "_view_module": "@jupyter-widgets/controls",
            "_view_module_version": "1.5.0",
            "_view_name": "ProgressView",
            "bar_style": "success",
            "description": "",
            "description_tooltip": null,
            "layout": "IPY_MODEL_61e5a5733e4041f0bd817a38cc69a814",
            "max": 112,
            "min": 0,
            "orientation": "horizontal",
            "style": "IPY_MODEL_76257cfe599543ff89d1b2ccfd874d99",
            "value": 112
          }
        },
        "13aadcda5610451bb997f3ab84b2e324": {
          "model_module": "@jupyter-widgets/controls",
          "model_module_version": "1.5.0",
          "model_name": "DescriptionStyleModel",
          "state": {
            "_model_module": "@jupyter-widgets/controls",
            "_model_module_version": "1.5.0",
            "_model_name": "DescriptionStyleModel",
            "_view_count": null,
            "_view_module": "@jupyter-widgets/base",
            "_view_module_version": "1.2.0",
            "_view_name": "StyleView",
            "description_width": ""
          }
        },
        "14d4c24cf17748c4b19178f9ee1e563c": {
          "model_module": "@jupyter-widgets/controls",
          "model_module_version": "1.5.0",
          "model_name": "HBoxModel",
          "state": {
            "_dom_classes": [],
            "_model_module": "@jupyter-widgets/controls",
            "_model_module_version": "1.5.0",
            "_model_name": "HBoxModel",
            "_view_count": null,
            "_view_module": "@jupyter-widgets/controls",
            "_view_module_version": "1.5.0",
            "_view_name": "HBoxView",
            "box_style": "",
            "children": [
              "IPY_MODEL_08b9d7e9235d44f581621cc054366df8",
              "IPY_MODEL_7db04ab996064c138cdb2b64954b26e3",
              "IPY_MODEL_990e4628442f4fffa7b051daf38edf65"
            ],
            "layout": "IPY_MODEL_943a313d0cb94dae9a1bb87a28cfa725"
          }
        },
        "1cb2f8618d5c43c9b7eb24ea34db0c53": {
          "model_module": "@jupyter-widgets/controls",
          "model_module_version": "1.5.0",
          "model_name": "HTMLModel",
          "state": {
            "_dom_classes": [],
            "_model_module": "@jupyter-widgets/controls",
            "_model_module_version": "1.5.0",
            "_model_name": "HTMLModel",
            "_view_count": null,
            "_view_module": "@jupyter-widgets/controls",
            "_view_module_version": "1.5.0",
            "_view_name": "HTMLView",
            "description": "",
            "description_tooltip": null,
            "layout": "IPY_MODEL_fa2fd1f566be4b8688d9c822d7d27a7b",
            "placeholder": "​",
            "style": "IPY_MODEL_2362df7a4c834ae286c0446347c673e9",
            "value": " 62.0/62.0 [00:00&lt;00:00, 660B/s]"
          }
        },
        "21f336ed26ef43afb73a23b39b467122": {
          "model_module": "@jupyter-widgets/controls",
          "model_module_version": "1.5.0",
          "model_name": "HBoxModel",
          "state": {
            "_dom_classes": [],
            "_model_module": "@jupyter-widgets/controls",
            "_model_module_version": "1.5.0",
            "_model_name": "HBoxModel",
            "_view_count": null,
            "_view_module": "@jupyter-widgets/controls",
            "_view_module_version": "1.5.0",
            "_view_name": "HBoxView",
            "box_style": "",
            "children": [
              "IPY_MODEL_5033848fcfe142aca1e882c3ca5a5fde",
              "IPY_MODEL_1096ce059f71405faaba4e23aae868c7",
              "IPY_MODEL_fae788f4112147f9ac27f45658310a64"
            ],
            "layout": "IPY_MODEL_56e7281c6ddf473192502edb558f0b89"
          }
        },
        "2362df7a4c834ae286c0446347c673e9": {
          "model_module": "@jupyter-widgets/controls",
          "model_module_version": "1.5.0",
          "model_name": "DescriptionStyleModel",
          "state": {
            "_model_module": "@jupyter-widgets/controls",
            "_model_module_version": "1.5.0",
            "_model_name": "DescriptionStyleModel",
            "_view_count": null,
            "_view_module": "@jupyter-widgets/base",
            "_view_module_version": "1.2.0",
            "_view_name": "StyleView",
            "description_width": ""
          }
        },
        "2bd1bab42aff4efdb7bb998e590323e1": {
          "model_module": "@jupyter-widgets/base",
          "model_module_version": "1.2.0",
          "model_name": "LayoutModel",
          "state": {
            "_model_module": "@jupyter-widgets/base",
            "_model_module_version": "1.2.0",
            "_model_name": "LayoutModel",
            "_view_count": null,
            "_view_module": "@jupyter-widgets/base",
            "_view_module_version": "1.2.0",
            "_view_name": "LayoutView",
            "align_content": null,
            "align_items": null,
            "align_self": null,
            "border": null,
            "bottom": null,
            "display": null,
            "flex": null,
            "flex_flow": null,
            "grid_area": null,
            "grid_auto_columns": null,
            "grid_auto_flow": null,
            "grid_auto_rows": null,
            "grid_column": null,
            "grid_gap": null,
            "grid_row": null,
            "grid_template_areas": null,
            "grid_template_columns": null,
            "grid_template_rows": null,
            "height": null,
            "justify_content": null,
            "justify_items": null,
            "left": null,
            "margin": null,
            "max_height": null,
            "max_width": null,
            "min_height": null,
            "min_width": null,
            "object_fit": null,
            "object_position": null,
            "order": null,
            "overflow": null,
            "overflow_x": null,
            "overflow_y": null,
            "padding": null,
            "right": null,
            "top": null,
            "visibility": null,
            "width": null
          }
        },
        "2d1d23c7c88b4ca1b2df983888b63728": {
          "model_module": "@jupyter-widgets/controls",
          "model_module_version": "1.5.0",
          "model_name": "HTMLModel",
          "state": {
            "_dom_classes": [],
            "_model_module": "@jupyter-widgets/controls",
            "_model_module_version": "1.5.0",
            "_model_name": "HTMLModel",
            "_view_count": null,
            "_view_module": "@jupyter-widgets/controls",
            "_view_module_version": "1.5.0",
            "_view_name": "HTMLView",
            "description": "",
            "description_tooltip": null,
            "layout": "IPY_MODEL_2bd1bab42aff4efdb7bb998e590323e1",
            "placeholder": "​",
            "style": "IPY_MODEL_da84f4f6a23541c3b9ad125785fc2186",
            "value": "Downloading: 100%"
          }
        },
        "41d6273ae09d4c6bb72945de95b485de": {
          "model_module": "@jupyter-widgets/controls",
          "model_module_version": "1.5.0",
          "model_name": "HTMLModel",
          "state": {
            "_dom_classes": [],
            "_model_module": "@jupyter-widgets/controls",
            "_model_module_version": "1.5.0",
            "_model_name": "HTMLModel",
            "_view_count": null,
            "_view_module": "@jupyter-widgets/controls",
            "_view_module_version": "1.5.0",
            "_view_name": "HTMLView",
            "description": "",
            "description_tooltip": null,
            "layout": "IPY_MODEL_644de8219aac4c218b18c9d7fac0e5ab",
            "placeholder": "​",
            "style": "IPY_MODEL_a271bb3c4f134b1a963331cdef3d577c",
            "value": " 1.35G/1.35G [00:37&lt;00:00, 34.6MB/s]"
          }
        },
        "43b1d89e18764e9a9bc9c35216704053": {
          "model_module": "@jupyter-widgets/base",
          "model_module_version": "1.2.0",
          "model_name": "LayoutModel",
          "state": {
            "_model_module": "@jupyter-widgets/base",
            "_model_module_version": "1.2.0",
            "_model_name": "LayoutModel",
            "_view_count": null,
            "_view_module": "@jupyter-widgets/base",
            "_view_module_version": "1.2.0",
            "_view_name": "LayoutView",
            "align_content": null,
            "align_items": null,
            "align_self": null,
            "border": null,
            "bottom": null,
            "display": null,
            "flex": null,
            "flex_flow": null,
            "grid_area": null,
            "grid_auto_columns": null,
            "grid_auto_flow": null,
            "grid_auto_rows": null,
            "grid_column": null,
            "grid_gap": null,
            "grid_row": null,
            "grid_template_areas": null,
            "grid_template_columns": null,
            "grid_template_rows": null,
            "height": null,
            "justify_content": null,
            "justify_items": null,
            "left": null,
            "margin": null,
            "max_height": null,
            "max_width": null,
            "min_height": null,
            "min_width": null,
            "object_fit": null,
            "object_position": null,
            "order": null,
            "overflow": null,
            "overflow_x": null,
            "overflow_y": null,
            "padding": null,
            "right": null,
            "top": null,
            "visibility": null,
            "width": null
          }
        },
        "5033848fcfe142aca1e882c3ca5a5fde": {
          "model_module": "@jupyter-widgets/controls",
          "model_module_version": "1.5.0",
          "model_name": "HTMLModel",
          "state": {
            "_dom_classes": [],
            "_model_module": "@jupyter-widgets/controls",
            "_model_module_version": "1.5.0",
            "_model_name": "HTMLModel",
            "_view_count": null,
            "_view_module": "@jupyter-widgets/controls",
            "_view_module_version": "1.5.0",
            "_view_name": "HTMLView",
            "description": "",
            "description_tooltip": null,
            "layout": "IPY_MODEL_43b1d89e18764e9a9bc9c35216704053",
            "placeholder": "​",
            "style": "IPY_MODEL_e63838de0dae4d2c87675eaabb748a2f",
            "value": "Downloading: 100%"
          }
        },
        "56e7281c6ddf473192502edb558f0b89": {
          "model_module": "@jupyter-widgets/base",
          "model_module_version": "1.2.0",
          "model_name": "LayoutModel",
          "state": {
            "_model_module": "@jupyter-widgets/base",
            "_model_module_version": "1.2.0",
            "_model_name": "LayoutModel",
            "_view_count": null,
            "_view_module": "@jupyter-widgets/base",
            "_view_module_version": "1.2.0",
            "_view_name": "LayoutView",
            "align_content": null,
            "align_items": null,
            "align_self": null,
            "border": null,
            "bottom": null,
            "display": null,
            "flex": null,
            "flex_flow": null,
            "grid_area": null,
            "grid_auto_columns": null,
            "grid_auto_flow": null,
            "grid_auto_rows": null,
            "grid_column": null,
            "grid_gap": null,
            "grid_row": null,
            "grid_template_areas": null,
            "grid_template_columns": null,
            "grid_template_rows": null,
            "height": null,
            "justify_content": null,
            "justify_items": null,
            "left": null,
            "margin": null,
            "max_height": null,
            "max_width": null,
            "min_height": null,
            "min_width": null,
            "object_fit": null,
            "object_position": null,
            "order": null,
            "overflow": null,
            "overflow_x": null,
            "overflow_y": null,
            "padding": null,
            "right": null,
            "top": null,
            "visibility": null,
            "width": null
          }
        },
        "5fbf765395de40928a9dd8005159be9b": {
          "model_module": "@jupyter-widgets/controls",
          "model_module_version": "1.5.0",
          "model_name": "DescriptionStyleModel",
          "state": {
            "_model_module": "@jupyter-widgets/controls",
            "_model_module_version": "1.5.0",
            "_model_name": "DescriptionStyleModel",
            "_view_count": null,
            "_view_module": "@jupyter-widgets/base",
            "_view_module_version": "1.2.0",
            "_view_name": "StyleView",
            "description_width": ""
          }
        },
        "60cd3fcc41b54cc88f7506239d0c4b0d": {
          "model_module": "@jupyter-widgets/controls",
          "model_module_version": "1.5.0",
          "model_name": "ProgressStyleModel",
          "state": {
            "_model_module": "@jupyter-widgets/controls",
            "_model_module_version": "1.5.0",
            "_model_name": "ProgressStyleModel",
            "_view_count": null,
            "_view_module": "@jupyter-widgets/base",
            "_view_module_version": "1.2.0",
            "_view_name": "StyleView",
            "bar_color": null,
            "description_width": ""
          }
        },
        "61e5a5733e4041f0bd817a38cc69a814": {
          "model_module": "@jupyter-widgets/base",
          "model_module_version": "1.2.0",
          "model_name": "LayoutModel",
          "state": {
            "_model_module": "@jupyter-widgets/base",
            "_model_module_version": "1.2.0",
            "_model_name": "LayoutModel",
            "_view_count": null,
            "_view_module": "@jupyter-widgets/base",
            "_view_module_version": "1.2.0",
            "_view_name": "LayoutView",
            "align_content": null,
            "align_items": null,
            "align_self": null,
            "border": null,
            "bottom": null,
            "display": null,
            "flex": null,
            "flex_flow": null,
            "grid_area": null,
            "grid_auto_columns": null,
            "grid_auto_flow": null,
            "grid_auto_rows": null,
            "grid_column": null,
            "grid_gap": null,
            "grid_row": null,
            "grid_template_areas": null,
            "grid_template_columns": null,
            "grid_template_rows": null,
            "height": null,
            "justify_content": null,
            "justify_items": null,
            "left": null,
            "margin": null,
            "max_height": null,
            "max_width": null,
            "min_height": null,
            "min_width": null,
            "object_fit": null,
            "object_position": null,
            "order": null,
            "overflow": null,
            "overflow_x": null,
            "overflow_y": null,
            "padding": null,
            "right": null,
            "top": null,
            "visibility": null,
            "width": null
          }
        },
        "644c018d01c541a7bff9c7a9bc465fa5": {
          "model_module": "@jupyter-widgets/base",
          "model_module_version": "1.2.0",
          "model_name": "LayoutModel",
          "state": {
            "_model_module": "@jupyter-widgets/base",
            "_model_module_version": "1.2.0",
            "_model_name": "LayoutModel",
            "_view_count": null,
            "_view_module": "@jupyter-widgets/base",
            "_view_module_version": "1.2.0",
            "_view_name": "LayoutView",
            "align_content": null,
            "align_items": null,
            "align_self": null,
            "border": null,
            "bottom": null,
            "display": null,
            "flex": null,
            "flex_flow": null,
            "grid_area": null,
            "grid_auto_columns": null,
            "grid_auto_flow": null,
            "grid_auto_rows": null,
            "grid_column": null,
            "grid_gap": null,
            "grid_row": null,
            "grid_template_areas": null,
            "grid_template_columns": null,
            "grid_template_rows": null,
            "height": null,
            "justify_content": null,
            "justify_items": null,
            "left": null,
            "margin": null,
            "max_height": null,
            "max_width": null,
            "min_height": null,
            "min_width": null,
            "object_fit": null,
            "object_position": null,
            "order": null,
            "overflow": null,
            "overflow_x": null,
            "overflow_y": null,
            "padding": null,
            "right": null,
            "top": null,
            "visibility": null,
            "width": null
          }
        },
        "644de8219aac4c218b18c9d7fac0e5ab": {
          "model_module": "@jupyter-widgets/base",
          "model_module_version": "1.2.0",
          "model_name": "LayoutModel",
          "state": {
            "_model_module": "@jupyter-widgets/base",
            "_model_module_version": "1.2.0",
            "_model_name": "LayoutModel",
            "_view_count": null,
            "_view_module": "@jupyter-widgets/base",
            "_view_module_version": "1.2.0",
            "_view_name": "LayoutView",
            "align_content": null,
            "align_items": null,
            "align_self": null,
            "border": null,
            "bottom": null,
            "display": null,
            "flex": null,
            "flex_flow": null,
            "grid_area": null,
            "grid_auto_columns": null,
            "grid_auto_flow": null,
            "grid_auto_rows": null,
            "grid_column": null,
            "grid_gap": null,
            "grid_row": null,
            "grid_template_areas": null,
            "grid_template_columns": null,
            "grid_template_rows": null,
            "height": null,
            "justify_content": null,
            "justify_items": null,
            "left": null,
            "margin": null,
            "max_height": null,
            "max_width": null,
            "min_height": null,
            "min_width": null,
            "object_fit": null,
            "object_position": null,
            "order": null,
            "overflow": null,
            "overflow_x": null,
            "overflow_y": null,
            "padding": null,
            "right": null,
            "top": null,
            "visibility": null,
            "width": null
          }
        },
        "6ffd0a91edf04e44babdfd0847485fc8": {
          "model_module": "@jupyter-widgets/base",
          "model_module_version": "1.2.0",
          "model_name": "LayoutModel",
          "state": {
            "_model_module": "@jupyter-widgets/base",
            "_model_module_version": "1.2.0",
            "_model_name": "LayoutModel",
            "_view_count": null,
            "_view_module": "@jupyter-widgets/base",
            "_view_module_version": "1.2.0",
            "_view_name": "LayoutView",
            "align_content": null,
            "align_items": null,
            "align_self": null,
            "border": null,
            "bottom": null,
            "display": null,
            "flex": null,
            "flex_flow": null,
            "grid_area": null,
            "grid_auto_columns": null,
            "grid_auto_flow": null,
            "grid_auto_rows": null,
            "grid_column": null,
            "grid_gap": null,
            "grid_row": null,
            "grid_template_areas": null,
            "grid_template_columns": null,
            "grid_template_rows": null,
            "height": null,
            "justify_content": null,
            "justify_items": null,
            "left": null,
            "margin": null,
            "max_height": null,
            "max_width": null,
            "min_height": null,
            "min_width": null,
            "object_fit": null,
            "object_position": null,
            "order": null,
            "overflow": null,
            "overflow_x": null,
            "overflow_y": null,
            "padding": null,
            "right": null,
            "top": null,
            "visibility": null,
            "width": null
          }
        },
        "76257cfe599543ff89d1b2ccfd874d99": {
          "model_module": "@jupyter-widgets/controls",
          "model_module_version": "1.5.0",
          "model_name": "ProgressStyleModel",
          "state": {
            "_model_module": "@jupyter-widgets/controls",
            "_model_module_version": "1.5.0",
            "_model_name": "ProgressStyleModel",
            "_view_count": null,
            "_view_module": "@jupyter-widgets/base",
            "_view_module_version": "1.2.0",
            "_view_name": "StyleView",
            "bar_color": null,
            "description_width": ""
          }
        },
        "7710bf3b7df747bab28861de555ce7d1": {
          "model_module": "@jupyter-widgets/base",
          "model_module_version": "1.2.0",
          "model_name": "LayoutModel",
          "state": {
            "_model_module": "@jupyter-widgets/base",
            "_model_module_version": "1.2.0",
            "_model_name": "LayoutModel",
            "_view_count": null,
            "_view_module": "@jupyter-widgets/base",
            "_view_module_version": "1.2.0",
            "_view_name": "LayoutView",
            "align_content": null,
            "align_items": null,
            "align_self": null,
            "border": null,
            "bottom": null,
            "display": null,
            "flex": null,
            "flex_flow": null,
            "grid_area": null,
            "grid_auto_columns": null,
            "grid_auto_flow": null,
            "grid_auto_rows": null,
            "grid_column": null,
            "grid_gap": null,
            "grid_row": null,
            "grid_template_areas": null,
            "grid_template_columns": null,
            "grid_template_rows": null,
            "height": null,
            "justify_content": null,
            "justify_items": null,
            "left": null,
            "margin": null,
            "max_height": null,
            "max_width": null,
            "min_height": null,
            "min_width": null,
            "object_fit": null,
            "object_position": null,
            "order": null,
            "overflow": null,
            "overflow_x": null,
            "overflow_y": null,
            "padding": null,
            "right": null,
            "top": null,
            "visibility": null,
            "width": null
          }
        },
        "78443929962c4b17b8234f3eae7b029b": {
          "model_module": "@jupyter-widgets/base",
          "model_module_version": "1.2.0",
          "model_name": "LayoutModel",
          "state": {
            "_model_module": "@jupyter-widgets/base",
            "_model_module_version": "1.2.0",
            "_model_name": "LayoutModel",
            "_view_count": null,
            "_view_module": "@jupyter-widgets/base",
            "_view_module_version": "1.2.0",
            "_view_name": "LayoutView",
            "align_content": null,
            "align_items": null,
            "align_self": null,
            "border": null,
            "bottom": null,
            "display": null,
            "flex": null,
            "flex_flow": null,
            "grid_area": null,
            "grid_auto_columns": null,
            "grid_auto_flow": null,
            "grid_auto_rows": null,
            "grid_column": null,
            "grid_gap": null,
            "grid_row": null,
            "grid_template_areas": null,
            "grid_template_columns": null,
            "grid_template_rows": null,
            "height": null,
            "justify_content": null,
            "justify_items": null,
            "left": null,
            "margin": null,
            "max_height": null,
            "max_width": null,
            "min_height": null,
            "min_width": null,
            "object_fit": null,
            "object_position": null,
            "order": null,
            "overflow": null,
            "overflow_x": null,
            "overflow_y": null,
            "padding": null,
            "right": null,
            "top": null,
            "visibility": null,
            "width": null
          }
        },
        "7a3d80191ce74cc5b3c8b7719fc64932": {
          "model_module": "@jupyter-widgets/controls",
          "model_module_version": "1.5.0",
          "model_name": "DescriptionStyleModel",
          "state": {
            "_model_module": "@jupyter-widgets/controls",
            "_model_module_version": "1.5.0",
            "_model_name": "DescriptionStyleModel",
            "_view_count": null,
            "_view_module": "@jupyter-widgets/base",
            "_view_module_version": "1.2.0",
            "_view_name": "StyleView",
            "description_width": ""
          }
        },
        "7db04ab996064c138cdb2b64954b26e3": {
          "model_module": "@jupyter-widgets/controls",
          "model_module_version": "1.5.0",
          "model_name": "FloatProgressModel",
          "state": {
            "_dom_classes": [],
            "_model_module": "@jupyter-widgets/controls",
            "_model_module_version": "1.5.0",
            "_model_name": "FloatProgressModel",
            "_view_count": null,
            "_view_module": "@jupyter-widgets/controls",
            "_view_module_version": "1.5.0",
            "_view_name": "ProgressView",
            "bar_style": "success",
            "description": "",
            "description_tooltip": null,
            "layout": "IPY_MODEL_e8b63bc261c044e5a93559093a12faf4",
            "max": 231508,
            "min": 0,
            "orientation": "horizontal",
            "style": "IPY_MODEL_89058e3a814b49d9bf3abd2ffed442bd",
            "value": 231508
          }
        },
        "85645d4e1f0f482eb987a3226d6a66e7": {
          "model_module": "@jupyter-widgets/base",
          "model_module_version": "1.2.0",
          "model_name": "LayoutModel",
          "state": {
            "_model_module": "@jupyter-widgets/base",
            "_model_module_version": "1.2.0",
            "_model_name": "LayoutModel",
            "_view_count": null,
            "_view_module": "@jupyter-widgets/base",
            "_view_module_version": "1.2.0",
            "_view_name": "LayoutView",
            "align_content": null,
            "align_items": null,
            "align_self": null,
            "border": null,
            "bottom": null,
            "display": null,
            "flex": null,
            "flex_flow": null,
            "grid_area": null,
            "grid_auto_columns": null,
            "grid_auto_flow": null,
            "grid_auto_rows": null,
            "grid_column": null,
            "grid_gap": null,
            "grid_row": null,
            "grid_template_areas": null,
            "grid_template_columns": null,
            "grid_template_rows": null,
            "height": null,
            "justify_content": null,
            "justify_items": null,
            "left": null,
            "margin": null,
            "max_height": null,
            "max_width": null,
            "min_height": null,
            "min_width": null,
            "object_fit": null,
            "object_position": null,
            "order": null,
            "overflow": null,
            "overflow_x": null,
            "overflow_y": null,
            "padding": null,
            "right": null,
            "top": null,
            "visibility": null,
            "width": null
          }
        },
        "86742a2be13f42b4afc78e1dbd09e4fd": {
          "model_module": "@jupyter-widgets/controls",
          "model_module_version": "1.5.0",
          "model_name": "DescriptionStyleModel",
          "state": {
            "_model_module": "@jupyter-widgets/controls",
            "_model_module_version": "1.5.0",
            "_model_name": "DescriptionStyleModel",
            "_view_count": null,
            "_view_module": "@jupyter-widgets/base",
            "_view_module_version": "1.2.0",
            "_view_name": "StyleView",
            "description_width": ""
          }
        },
        "89058e3a814b49d9bf3abd2ffed442bd": {
          "model_module": "@jupyter-widgets/controls",
          "model_module_version": "1.5.0",
          "model_name": "ProgressStyleModel",
          "state": {
            "_model_module": "@jupyter-widgets/controls",
            "_model_module_version": "1.5.0",
            "_model_name": "ProgressStyleModel",
            "_view_count": null,
            "_view_module": "@jupyter-widgets/base",
            "_view_module_version": "1.2.0",
            "_view_name": "StyleView",
            "bar_color": null,
            "description_width": ""
          }
        },
        "891cc1bf9815433182f4d5a0a9aa3173": {
          "model_module": "@jupyter-widgets/controls",
          "model_module_version": "1.5.0",
          "model_name": "ProgressStyleModel",
          "state": {
            "_model_module": "@jupyter-widgets/controls",
            "_model_module_version": "1.5.0",
            "_model_name": "ProgressStyleModel",
            "_view_count": null,
            "_view_module": "@jupyter-widgets/base",
            "_view_module_version": "1.2.0",
            "_view_name": "StyleView",
            "bar_color": null,
            "description_width": ""
          }
        },
        "89a99334614645199c5669b3aaaba4bc": {
          "model_module": "@jupyter-widgets/controls",
          "model_module_version": "1.5.0",
          "model_name": "HBoxModel",
          "state": {
            "_dom_classes": [],
            "_model_module": "@jupyter-widgets/controls",
            "_model_module_version": "1.5.0",
            "_model_name": "HBoxModel",
            "_view_count": null,
            "_view_module": "@jupyter-widgets/controls",
            "_view_module_version": "1.5.0",
            "_view_name": "HBoxView",
            "box_style": "",
            "children": [
              "IPY_MODEL_e06c4adecec745f9809e72da5fd6d9df",
              "IPY_MODEL_939b2f59d3cc444ba4cb6da83559eb33",
              "IPY_MODEL_b8e4018491064327934d45a358328523"
            ],
            "layout": "IPY_MODEL_0e3f27f4d705419e8a7931a704e152e9"
          }
        },
        "939b2f59d3cc444ba4cb6da83559eb33": {
          "model_module": "@jupyter-widgets/controls",
          "model_module_version": "1.5.0",
          "model_name": "FloatProgressModel",
          "state": {
            "_dom_classes": [],
            "_model_module": "@jupyter-widgets/controls",
            "_model_module_version": "1.5.0",
            "_model_name": "FloatProgressModel",
            "_view_count": null,
            "_view_module": "@jupyter-widgets/controls",
            "_view_module_version": "1.5.0",
            "_view_name": "ProgressView",
            "bar_style": "success",
            "description": "",
            "description_tooltip": null,
            "layout": "IPY_MODEL_ac80ef89dd014738b207b2c668436c1e",
            "max": 421,
            "min": 0,
            "orientation": "horizontal",
            "style": "IPY_MODEL_891cc1bf9815433182f4d5a0a9aa3173",
            "value": 421
          }
        },
        "943a313d0cb94dae9a1bb87a28cfa725": {
          "model_module": "@jupyter-widgets/base",
          "model_module_version": "1.2.0",
          "model_name": "LayoutModel",
          "state": {
            "_model_module": "@jupyter-widgets/base",
            "_model_module_version": "1.2.0",
            "_model_name": "LayoutModel",
            "_view_count": null,
            "_view_module": "@jupyter-widgets/base",
            "_view_module_version": "1.2.0",
            "_view_name": "LayoutView",
            "align_content": null,
            "align_items": null,
            "align_self": null,
            "border": null,
            "bottom": null,
            "display": null,
            "flex": null,
            "flex_flow": null,
            "grid_area": null,
            "grid_auto_columns": null,
            "grid_auto_flow": null,
            "grid_auto_rows": null,
            "grid_column": null,
            "grid_gap": null,
            "grid_row": null,
            "grid_template_areas": null,
            "grid_template_columns": null,
            "grid_template_rows": null,
            "height": null,
            "justify_content": null,
            "justify_items": null,
            "left": null,
            "margin": null,
            "max_height": null,
            "max_width": null,
            "min_height": null,
            "min_width": null,
            "object_fit": null,
            "object_position": null,
            "order": null,
            "overflow": null,
            "overflow_x": null,
            "overflow_y": null,
            "padding": null,
            "right": null,
            "top": null,
            "visibility": null,
            "width": null
          }
        },
        "990e4628442f4fffa7b051daf38edf65": {
          "model_module": "@jupyter-widgets/controls",
          "model_module_version": "1.5.0",
          "model_name": "HTMLModel",
          "state": {
            "_dom_classes": [],
            "_model_module": "@jupyter-widgets/controls",
            "_model_module_version": "1.5.0",
            "_model_name": "HTMLModel",
            "_view_count": null,
            "_view_module": "@jupyter-widgets/controls",
            "_view_module_version": "1.5.0",
            "_view_name": "HTMLView",
            "description": "",
            "description_tooltip": null,
            "layout": "IPY_MODEL_7710bf3b7df747bab28861de555ce7d1",
            "placeholder": "​",
            "style": "IPY_MODEL_7a3d80191ce74cc5b3c8b7719fc64932",
            "value": " 232k/232k [00:00&lt;00:00, 1.23MB/s]"
          }
        },
        "a088ac1d80f44dd9a79d80bb674395fd": {
          "model_module": "@jupyter-widgets/base",
          "model_module_version": "1.2.0",
          "model_name": "LayoutModel",
          "state": {
            "_model_module": "@jupyter-widgets/base",
            "_model_module_version": "1.2.0",
            "_model_name": "LayoutModel",
            "_view_count": null,
            "_view_module": "@jupyter-widgets/base",
            "_view_module_version": "1.2.0",
            "_view_name": "LayoutView",
            "align_content": null,
            "align_items": null,
            "align_self": null,
            "border": null,
            "bottom": null,
            "display": null,
            "flex": null,
            "flex_flow": null,
            "grid_area": null,
            "grid_auto_columns": null,
            "grid_auto_flow": null,
            "grid_auto_rows": null,
            "grid_column": null,
            "grid_gap": null,
            "grid_row": null,
            "grid_template_areas": null,
            "grid_template_columns": null,
            "grid_template_rows": null,
            "height": null,
            "justify_content": null,
            "justify_items": null,
            "left": null,
            "margin": null,
            "max_height": null,
            "max_width": null,
            "min_height": null,
            "min_width": null,
            "object_fit": null,
            "object_position": null,
            "order": null,
            "overflow": null,
            "overflow_x": null,
            "overflow_y": null,
            "padding": null,
            "right": null,
            "top": null,
            "visibility": null,
            "width": null
          }
        },
        "a271bb3c4f134b1a963331cdef3d577c": {
          "model_module": "@jupyter-widgets/controls",
          "model_module_version": "1.5.0",
          "model_name": "DescriptionStyleModel",
          "state": {
            "_model_module": "@jupyter-widgets/controls",
            "_model_module_version": "1.5.0",
            "_model_name": "DescriptionStyleModel",
            "_view_count": null,
            "_view_module": "@jupyter-widgets/base",
            "_view_module_version": "1.2.0",
            "_view_name": "StyleView",
            "description_width": ""
          }
        },
        "a80b3d6e77ab48189f61083482f07e9d": {
          "model_module": "@jupyter-widgets/controls",
          "model_module_version": "1.5.0",
          "model_name": "HBoxModel",
          "state": {
            "_dom_classes": [],
            "_model_module": "@jupyter-widgets/controls",
            "_model_module_version": "1.5.0",
            "_model_name": "HBoxModel",
            "_view_count": null,
            "_view_module": "@jupyter-widgets/controls",
            "_view_module_version": "1.5.0",
            "_view_name": "HBoxView",
            "box_style": "",
            "children": [
              "IPY_MODEL_b9119afa5ba54a70a9160e300819d3a0",
              "IPY_MODEL_c97f03cbacb3467dabe6d5ba14860090",
              "IPY_MODEL_1cb2f8618d5c43c9b7eb24ea34db0c53"
            ],
            "layout": "IPY_MODEL_f2597eebb9894413b8d7951e0d2fe365"
          }
        },
        "ac80ef89dd014738b207b2c668436c1e": {
          "model_module": "@jupyter-widgets/base",
          "model_module_version": "1.2.0",
          "model_name": "LayoutModel",
          "state": {
            "_model_module": "@jupyter-widgets/base",
            "_model_module_version": "1.2.0",
            "_model_name": "LayoutModel",
            "_view_count": null,
            "_view_module": "@jupyter-widgets/base",
            "_view_module_version": "1.2.0",
            "_view_name": "LayoutView",
            "align_content": null,
            "align_items": null,
            "align_self": null,
            "border": null,
            "bottom": null,
            "display": null,
            "flex": null,
            "flex_flow": null,
            "grid_area": null,
            "grid_auto_columns": null,
            "grid_auto_flow": null,
            "grid_auto_rows": null,
            "grid_column": null,
            "grid_gap": null,
            "grid_row": null,
            "grid_template_areas": null,
            "grid_template_columns": null,
            "grid_template_rows": null,
            "height": null,
            "justify_content": null,
            "justify_items": null,
            "left": null,
            "margin": null,
            "max_height": null,
            "max_width": null,
            "min_height": null,
            "min_width": null,
            "object_fit": null,
            "object_position": null,
            "order": null,
            "overflow": null,
            "overflow_x": null,
            "overflow_y": null,
            "padding": null,
            "right": null,
            "top": null,
            "visibility": null,
            "width": null
          }
        },
        "b274d18b2b7541d19880d19409a24062": {
          "model_module": "@jupyter-widgets/base",
          "model_module_version": "1.2.0",
          "model_name": "LayoutModel",
          "state": {
            "_model_module": "@jupyter-widgets/base",
            "_model_module_version": "1.2.0",
            "_model_name": "LayoutModel",
            "_view_count": null,
            "_view_module": "@jupyter-widgets/base",
            "_view_module_version": "1.2.0",
            "_view_name": "LayoutView",
            "align_content": null,
            "align_items": null,
            "align_self": null,
            "border": null,
            "bottom": null,
            "display": null,
            "flex": null,
            "flex_flow": null,
            "grid_area": null,
            "grid_auto_columns": null,
            "grid_auto_flow": null,
            "grid_auto_rows": null,
            "grid_column": null,
            "grid_gap": null,
            "grid_row": null,
            "grid_template_areas": null,
            "grid_template_columns": null,
            "grid_template_rows": null,
            "height": null,
            "justify_content": null,
            "justify_items": null,
            "left": null,
            "margin": null,
            "max_height": null,
            "max_width": null,
            "min_height": null,
            "min_width": null,
            "object_fit": null,
            "object_position": null,
            "order": null,
            "overflow": null,
            "overflow_x": null,
            "overflow_y": null,
            "padding": null,
            "right": null,
            "top": null,
            "visibility": null,
            "width": null
          }
        },
        "b8e4018491064327934d45a358328523": {
          "model_module": "@jupyter-widgets/controls",
          "model_module_version": "1.5.0",
          "model_name": "HTMLModel",
          "state": {
            "_dom_classes": [],
            "_model_module": "@jupyter-widgets/controls",
            "_model_module_version": "1.5.0",
            "_model_name": "HTMLModel",
            "_view_count": null,
            "_view_module": "@jupyter-widgets/controls",
            "_view_module_version": "1.5.0",
            "_view_name": "HTMLView",
            "description": "",
            "description_tooltip": null,
            "layout": "IPY_MODEL_85645d4e1f0f482eb987a3226d6a66e7",
            "placeholder": "​",
            "style": "IPY_MODEL_13aadcda5610451bb997f3ab84b2e324",
            "value": " 421/421 [00:00&lt;00:00, 3.01kB/s]"
          }
        },
        "b9119afa5ba54a70a9160e300819d3a0": {
          "model_module": "@jupyter-widgets/controls",
          "model_module_version": "1.5.0",
          "model_name": "HTMLModel",
          "state": {
            "_dom_classes": [],
            "_model_module": "@jupyter-widgets/controls",
            "_model_module_version": "1.5.0",
            "_model_name": "HTMLModel",
            "_view_count": null,
            "_view_module": "@jupyter-widgets/controls",
            "_view_module_version": "1.5.0",
            "_view_name": "HTMLView",
            "description": "",
            "description_tooltip": null,
            "layout": "IPY_MODEL_a088ac1d80f44dd9a79d80bb674395fd",
            "placeholder": "​",
            "style": "IPY_MODEL_5fbf765395de40928a9dd8005159be9b",
            "value": "Downloading: 100%"
          }
        },
        "c97f03cbacb3467dabe6d5ba14860090": {
          "model_module": "@jupyter-widgets/controls",
          "model_module_version": "1.5.0",
          "model_name": "FloatProgressModel",
          "state": {
            "_dom_classes": [],
            "_model_module": "@jupyter-widgets/controls",
            "_model_module_version": "1.5.0",
            "_model_name": "FloatProgressModel",
            "_view_count": null,
            "_view_module": "@jupyter-widgets/controls",
            "_view_module_version": "1.5.0",
            "_view_name": "ProgressView",
            "bar_style": "success",
            "description": "",
            "description_tooltip": null,
            "layout": "IPY_MODEL_b274d18b2b7541d19880d19409a24062",
            "max": 62,
            "min": 0,
            "orientation": "horizontal",
            "style": "IPY_MODEL_60cd3fcc41b54cc88f7506239d0c4b0d",
            "value": 62
          }
        },
        "d61896bbb9fb4fdba28142b296e95820": {
          "model_module": "@jupyter-widgets/base",
          "model_module_version": "1.2.0",
          "model_name": "LayoutModel",
          "state": {
            "_model_module": "@jupyter-widgets/base",
            "_model_module_version": "1.2.0",
            "_model_name": "LayoutModel",
            "_view_count": null,
            "_view_module": "@jupyter-widgets/base",
            "_view_module_version": "1.2.0",
            "_view_name": "LayoutView",
            "align_content": null,
            "align_items": null,
            "align_self": null,
            "border": null,
            "bottom": null,
            "display": null,
            "flex": null,
            "flex_flow": null,
            "grid_area": null,
            "grid_auto_columns": null,
            "grid_auto_flow": null,
            "grid_auto_rows": null,
            "grid_column": null,
            "grid_gap": null,
            "grid_row": null,
            "grid_template_areas": null,
            "grid_template_columns": null,
            "grid_template_rows": null,
            "height": null,
            "justify_content": null,
            "justify_items": null,
            "left": null,
            "margin": null,
            "max_height": null,
            "max_width": null,
            "min_height": null,
            "min_width": null,
            "object_fit": null,
            "object_position": null,
            "order": null,
            "overflow": null,
            "overflow_x": null,
            "overflow_y": null,
            "padding": null,
            "right": null,
            "top": null,
            "visibility": null,
            "width": null
          }
        },
        "da84f4f6a23541c3b9ad125785fc2186": {
          "model_module": "@jupyter-widgets/controls",
          "model_module_version": "1.5.0",
          "model_name": "DescriptionStyleModel",
          "state": {
            "_model_module": "@jupyter-widgets/controls",
            "_model_module_version": "1.5.0",
            "_model_name": "DescriptionStyleModel",
            "_view_count": null,
            "_view_module": "@jupyter-widgets/base",
            "_view_module_version": "1.2.0",
            "_view_name": "StyleView",
            "description_width": ""
          }
        },
        "dd546ef2a0c64eafa1a0fed62ea9bbbe": {
          "model_module": "@jupyter-widgets/controls",
          "model_module_version": "1.5.0",
          "model_name": "ProgressStyleModel",
          "state": {
            "_model_module": "@jupyter-widgets/controls",
            "_model_module_version": "1.5.0",
            "_model_name": "ProgressStyleModel",
            "_view_count": null,
            "_view_module": "@jupyter-widgets/base",
            "_view_module_version": "1.2.0",
            "_view_name": "StyleView",
            "bar_color": null,
            "description_width": ""
          }
        },
        "e06c4adecec745f9809e72da5fd6d9df": {
          "model_module": "@jupyter-widgets/controls",
          "model_module_version": "1.5.0",
          "model_name": "HTMLModel",
          "state": {
            "_dom_classes": [],
            "_model_module": "@jupyter-widgets/controls",
            "_model_module_version": "1.5.0",
            "_model_name": "HTMLModel",
            "_view_count": null,
            "_view_module": "@jupyter-widgets/controls",
            "_view_module_version": "1.5.0",
            "_view_name": "HTMLView",
            "description": "",
            "description_tooltip": null,
            "layout": "IPY_MODEL_6ffd0a91edf04e44babdfd0847485fc8",
            "placeholder": "​",
            "style": "IPY_MODEL_05d1affa12344e4aa11136a93699a528",
            "value": "Downloading: 100%"
          }
        },
        "e17f29b32a6b4492b9e1923749c77b9b": {
          "model_module": "@jupyter-widgets/base",
          "model_module_version": "1.2.0",
          "model_name": "LayoutModel",
          "state": {
            "_model_module": "@jupyter-widgets/base",
            "_model_module_version": "1.2.0",
            "_model_name": "LayoutModel",
            "_view_count": null,
            "_view_module": "@jupyter-widgets/base",
            "_view_module_version": "1.2.0",
            "_view_name": "LayoutView",
            "align_content": null,
            "align_items": null,
            "align_self": null,
            "border": null,
            "bottom": null,
            "display": null,
            "flex": null,
            "flex_flow": null,
            "grid_area": null,
            "grid_auto_columns": null,
            "grid_auto_flow": null,
            "grid_auto_rows": null,
            "grid_column": null,
            "grid_gap": null,
            "grid_row": null,
            "grid_template_areas": null,
            "grid_template_columns": null,
            "grid_template_rows": null,
            "height": null,
            "justify_content": null,
            "justify_items": null,
            "left": null,
            "margin": null,
            "max_height": null,
            "max_width": null,
            "min_height": null,
            "min_width": null,
            "object_fit": null,
            "object_position": null,
            "order": null,
            "overflow": null,
            "overflow_x": null,
            "overflow_y": null,
            "padding": null,
            "right": null,
            "top": null,
            "visibility": null,
            "width": null
          }
        },
        "e63838de0dae4d2c87675eaabb748a2f": {
          "model_module": "@jupyter-widgets/controls",
          "model_module_version": "1.5.0",
          "model_name": "DescriptionStyleModel",
          "state": {
            "_model_module": "@jupyter-widgets/controls",
            "_model_module_version": "1.5.0",
            "_model_name": "DescriptionStyleModel",
            "_view_count": null,
            "_view_module": "@jupyter-widgets/base",
            "_view_module_version": "1.2.0",
            "_view_name": "StyleView",
            "description_width": ""
          }
        },
        "e8b63bc261c044e5a93559093a12faf4": {
          "model_module": "@jupyter-widgets/base",
          "model_module_version": "1.2.0",
          "model_name": "LayoutModel",
          "state": {
            "_model_module": "@jupyter-widgets/base",
            "_model_module_version": "1.2.0",
            "_model_name": "LayoutModel",
            "_view_count": null,
            "_view_module": "@jupyter-widgets/base",
            "_view_module_version": "1.2.0",
            "_view_name": "LayoutView",
            "align_content": null,
            "align_items": null,
            "align_self": null,
            "border": null,
            "bottom": null,
            "display": null,
            "flex": null,
            "flex_flow": null,
            "grid_area": null,
            "grid_auto_columns": null,
            "grid_auto_flow": null,
            "grid_auto_rows": null,
            "grid_column": null,
            "grid_gap": null,
            "grid_row": null,
            "grid_template_areas": null,
            "grid_template_columns": null,
            "grid_template_rows": null,
            "height": null,
            "justify_content": null,
            "justify_items": null,
            "left": null,
            "margin": null,
            "max_height": null,
            "max_width": null,
            "min_height": null,
            "min_width": null,
            "object_fit": null,
            "object_position": null,
            "order": null,
            "overflow": null,
            "overflow_x": null,
            "overflow_y": null,
            "padding": null,
            "right": null,
            "top": null,
            "visibility": null,
            "width": null
          }
        },
        "f2597eebb9894413b8d7951e0d2fe365": {
          "model_module": "@jupyter-widgets/base",
          "model_module_version": "1.2.0",
          "model_name": "LayoutModel",
          "state": {
            "_model_module": "@jupyter-widgets/base",
            "_model_module_version": "1.2.0",
            "_model_name": "LayoutModel",
            "_view_count": null,
            "_view_module": "@jupyter-widgets/base",
            "_view_module_version": "1.2.0",
            "_view_name": "LayoutView",
            "align_content": null,
            "align_items": null,
            "align_self": null,
            "border": null,
            "bottom": null,
            "display": null,
            "flex": null,
            "flex_flow": null,
            "grid_area": null,
            "grid_auto_columns": null,
            "grid_auto_flow": null,
            "grid_auto_rows": null,
            "grid_column": null,
            "grid_gap": null,
            "grid_row": null,
            "grid_template_areas": null,
            "grid_template_columns": null,
            "grid_template_rows": null,
            "height": null,
            "justify_content": null,
            "justify_items": null,
            "left": null,
            "margin": null,
            "max_height": null,
            "max_width": null,
            "min_height": null,
            "min_width": null,
            "object_fit": null,
            "object_position": null,
            "order": null,
            "overflow": null,
            "overflow_x": null,
            "overflow_y": null,
            "padding": null,
            "right": null,
            "top": null,
            "visibility": null,
            "width": null
          }
        },
        "f62fc3f159ea4a3a823526e550ade895": {
          "model_module": "@jupyter-widgets/controls",
          "model_module_version": "1.5.0",
          "model_name": "HBoxModel",
          "state": {
            "_dom_classes": [],
            "_model_module": "@jupyter-widgets/controls",
            "_model_module_version": "1.5.0",
            "_model_name": "HBoxModel",
            "_view_count": null,
            "_view_module": "@jupyter-widgets/controls",
            "_view_module_version": "1.5.0",
            "_view_name": "HBoxView",
            "box_style": "",
            "children": [
              "IPY_MODEL_2d1d23c7c88b4ca1b2df983888b63728",
              "IPY_MODEL_0d1267b3eeae4a4a9d19a6896fd7bc88",
              "IPY_MODEL_41d6273ae09d4c6bb72945de95b485de"
            ],
            "layout": "IPY_MODEL_d61896bbb9fb4fdba28142b296e95820"
          }
        },
        "fa2fd1f566be4b8688d9c822d7d27a7b": {
          "model_module": "@jupyter-widgets/base",
          "model_module_version": "1.2.0",
          "model_name": "LayoutModel",
          "state": {
            "_model_module": "@jupyter-widgets/base",
            "_model_module_version": "1.2.0",
            "_model_name": "LayoutModel",
            "_view_count": null,
            "_view_module": "@jupyter-widgets/base",
            "_view_module_version": "1.2.0",
            "_view_name": "LayoutView",
            "align_content": null,
            "align_items": null,
            "align_self": null,
            "border": null,
            "bottom": null,
            "display": null,
            "flex": null,
            "flex_flow": null,
            "grid_area": null,
            "grid_auto_columns": null,
            "grid_auto_flow": null,
            "grid_auto_rows": null,
            "grid_column": null,
            "grid_gap": null,
            "grid_row": null,
            "grid_template_areas": null,
            "grid_template_columns": null,
            "grid_template_rows": null,
            "height": null,
            "justify_content": null,
            "justify_items": null,
            "left": null,
            "margin": null,
            "max_height": null,
            "max_width": null,
            "min_height": null,
            "min_width": null,
            "object_fit": null,
            "object_position": null,
            "order": null,
            "overflow": null,
            "overflow_x": null,
            "overflow_y": null,
            "padding": null,
            "right": null,
            "top": null,
            "visibility": null,
            "width": null
          }
        },
        "fae788f4112147f9ac27f45658310a64": {
          "model_module": "@jupyter-widgets/controls",
          "model_module_version": "1.5.0",
          "model_name": "HTMLModel",
          "state": {
            "_dom_classes": [],
            "_model_module": "@jupyter-widgets/controls",
            "_model_module_version": "1.5.0",
            "_model_name": "HTMLModel",
            "_view_count": null,
            "_view_module": "@jupyter-widgets/controls",
            "_view_module_version": "1.5.0",
            "_view_name": "HTMLView",
            "description": "",
            "description_tooltip": null,
            "layout": "IPY_MODEL_e17f29b32a6b4492b9e1923749c77b9b",
            "placeholder": "​",
            "style": "IPY_MODEL_86742a2be13f42b4afc78e1dbd09e4fd",
            "value": " 112/112 [00:00&lt;00:00, 1.15kB/s]"
          }
        }
      }
    }
  },
  "nbformat": 4,
  "nbformat_minor": 0
}